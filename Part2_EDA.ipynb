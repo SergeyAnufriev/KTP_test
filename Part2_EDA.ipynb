{
 "cells": [
  {
   "cell_type": "markdown",
   "source": [
    "## Part.2 modelling EDA (exploratory data analysis)"
   ],
   "metadata": {
    "collapsed": false,
    "pycharm": {
     "name": "#%% md\n"
    }
   }
  },
  {
   "cell_type": "code",
   "execution_count": 1,
   "outputs": [],
   "source": [
    "import pandas as pd\n",
    "import matplotlib.pyplot as plt\n",
    "import numpy as np\n",
    "import math\n",
    "from sklearn.metrics import mean_absolute_error"
   ],
   "metadata": {
    "collapsed": false,
    "pycharm": {
     "name": "#%%\n"
    }
   }
  },
  {
   "cell_type": "code",
   "execution_count": 2,
   "outputs": [],
   "source": [
    "dir_ = r'C:\\Users\\zcemg08\\DataspellProjects\\KTP_test\\data\\calibration.csv'\n",
    "df = pd.read_csv(dir_)"
   ],
   "metadata": {
    "collapsed": false,
    "pycharm": {
     "name": "#%%\n"
    }
   }
  },
  {
   "cell_type": "code",
   "execution_count": 3,
   "outputs": [],
   "source": [
    "df_blank = df[df['Sample']=='Blank']\n",
    "df_pigment = df[df['Sample']=='S1']"
   ],
   "metadata": {
    "collapsed": false,
    "pycharm": {
     "name": "#%%\n"
    }
   }
  },
  {
   "cell_type": "code",
   "execution_count": 4,
   "outputs": [],
   "source": [
    "### Data for solvent only\n",
    "\n",
    "df_blank = df_blank.groupby('Dilution').mean(numeric_only=True)\n",
    "### data for pigment and solvent\n",
    "df_pigment = df_pigment.groupby('Dilution').mean(numeric_only=True)"
   ],
   "metadata": {
    "collapsed": false,
    "pycharm": {
     "name": "#%%\n"
    }
   }
  },
  {
   "cell_type": "code",
   "execution_count": 5,
   "outputs": [],
   "source": [
    "## Let n, k are dilute values,i.e [1,2,4,...128]\n",
    "## then An = E*c_n*l = E*50*2^(-log_{2}(n)*l --> An = Ak * [2^(-log_{2}(n)/2^(-log_{2}(k)] equation (1)\n",
    "##  (1) holds true if Es are the same"
   ],
   "metadata": {
    "collapsed": false,
    "pycharm": {
     "name": "#%%\n"
    }
   }
  },
  {
   "cell_type": "code",
   "execution_count": 6,
   "outputs": [],
   "source": [
    "## Find pigment A values form dataset\n",
    "df_pigment_train = df_pigment-df_blank.values ### additive model for absorption, this file contains absorption values for pigment at different wavelengths and pigment concentration"
   ],
   "metadata": {
    "collapsed": false,
    "pycharm": {
     "name": "#%%\n"
    }
   }
  },
  {
   "cell_type": "markdown",
   "source": [
    "1. Check consitance for equation 1"
   ],
   "metadata": {
    "collapsed": false,
    "pycharm": {
     "name": "#%% md\n"
    }
   }
  },
  {
   "cell_type": "code",
   "execution_count": 7,
   "outputs": [],
   "source": [
    "def multiplier(n,k):\n",
    "    '''multiplier in equation 1'''\n",
    "    return 2**(-math.log(n,2))/2**(-math.log(k,2))"
   ],
   "metadata": {
    "collapsed": false,
    "pycharm": {
     "name": "#%%\n"
    }
   }
  },
  {
   "cell_type": "code",
   "execution_count": 8,
   "outputs": [
    {
     "data": {
      "text/plain": "Text(0, 0.5, 'A_k * multiplier(n,k)')"
     },
     "execution_count": 8,
     "metadata": {},
     "output_type": "execute_result"
    },
    {
     "data": {
      "text/plain": "<Figure size 640x480 with 1 Axes>",
      "image/png": "[encoded data removed]"
     },
     "metadata": {},
     "output_type": "display_data"
    }
   ],
   "source": [
    "### Comparison between A pigment values for dilute = 1 and dilute = 2\n",
    "\n",
    "n = 1\n",
    "k = 2\n",
    "\n",
    "plt.scatter(df_pigment_train[df_pigment_train.index==n].values,df_pigment_train[df_pigment_train.index==k].values*multiplier(n,k))\n",
    "plt.xlabel('A_n')\n",
    "plt.ylabel('A_k * multiplier(n,k)')\n",
    "\n",
    "### For small wavelengths mathematical model A=E*c*L does not hold"
   ],
   "metadata": {
    "collapsed": false,
    "pycharm": {
     "name": "#%%\n"
    }
   }
  },
  {
   "cell_type": "markdown",
   "source": [
    "2. Compare consistancy of mathematical model A = Ecl for all data and the sensetive range determined in Part1 300 <wavelength<600\n",
    "   dilute values < 8 are exluded from investigation since there contribution to total A is negligible (Part 1 plot)\n",
    "\n",
    "\n",
    "Method: compute mean absolute error between A_n and A_k_adjusted for n,k in [1,2,4,8]"
   ],
   "metadata": {
    "collapsed": false,
    "pycharm": {
     "name": "#%% md\n"
    }
   }
  },
  {
   "cell_type": "code",
   "execution_count": 9,
   "outputs": [],
   "source": [
    "#### All data\n",
    "\n",
    "matrix = np.zeros((4,4))\n",
    "for i,n in enumerate([1,2,4,8]):\n",
    "    for j,k in enumerate([1,2,4,8]):\n",
    "        An = df_pigment_train[df_pigment_train.index == n].values\n",
    "        Ak_adjusted = df_pigment_train[df_pigment_train.index == k].values*multiplier(n,k)\n",
    "        matrix[i,j] = mean_absolute_error(An,Ak_adjusted)\n"
   ],
   "metadata": {
    "collapsed": false,
    "pycharm": {
     "name": "#%%\n"
    }
   }
  },
  {
   "cell_type": "code",
   "execution_count": 10,
   "outputs": [],
   "source": [
    "### Sensetive region determined in part 1 plot\n",
    "\n",
    "WAVELENGTH = np.array([220 + 2*x for x in range(291)])\n",
    "sensetive_region = np.where((WAVELENGTH>300) &(WAVELENGTH<600))[0]\n",
    "df_sensetive = df_pigment_train.iloc[:,sensetive_region]\n",
    "\n",
    "matrix2 = np.zeros((4,4))\n",
    "for i,n in enumerate([1,2,4,8]):\n",
    "    for j,k in enumerate([1,2,4,8]):\n",
    "        An = df_sensetive[df_sensetive.index == n].values\n",
    "        Ak_adjusted = df_sensetive[df_sensetive.index == k].values*multiplier(n,k)\n",
    "        matrix2[i,j] = mean_absolute_error(An,Ak_adjusted)"
   ],
   "metadata": {
    "collapsed": false,
    "pycharm": {
     "name": "#%%\n"
    }
   }
  },
  {
   "cell_type": "code",
   "execution_count": 11,
   "outputs": [
    {
     "name": "stdout",
     "output_type": "stream",
     "text": [
      "mean of all computed erors between (An,Ak adjusted) for all data =0.017191052763459343, for sensetive data =0.004689370106263984\n"
     ]
    }
   ],
   "source": [
    "print('mean of all computed erors between (An,Ak adjusted) for all data ={}, for sensetive data ={}'.format(np.mean(matrix),np.mean(matrix2)))"
   ],
   "metadata": {
    "collapsed": false,
    "pycharm": {
     "name": "#%%\n"
    }
   }
  },
  {
   "cell_type": "code",
   "execution_count": 12,
   "outputs": [
    {
     "name": "stdout",
     "output_type": "stream",
     "text": [
      "max of all computed erors between (An,Ak adjusted) for all data =0.083618556701031, for sensetive data =0.024794183445190156\n"
     ]
    }
   ],
   "source": [
    "print('max of all computed erors between (An,Ak adjusted) for all data ={}, for sensetive data ={}'.format(np.max(matrix),np.max(matrix2)))"
   ],
   "metadata": {
    "collapsed": false,
    "pycharm": {
     "name": "#%%\n"
    }
   }
  },
  {
   "cell_type": "markdown",
   "source": [
    "Conclusion: mathematical model A = EcL is much more applicable to waves between 300 and 600 then all waves range\n",
    "Therefore E values will be determined for waves in that sensetive range"
   ],
   "metadata": {
    "collapsed": false,
    "pycharm": {
     "name": "#%% md\n"
    }
   }
  },
  {
   "cell_type": "code",
   "execution_count": null,
   "outputs": [],
   "source": [],
   "metadata": {
    "collapsed": false,
    "pycharm": {
     "name": "#%%\n"
    }
   }
  }
 ],
 "metadata": {
  "kernelspec": {
   "display_name": "Python 3",
   "language": "python",
   "name": "python3"
  },
  "language_info": {
   "codemirror_mode": {
    "name": "ipython",
    "version": 2
   },
   "file_extension": ".py",
   "mimetype": "text/x-python",
   "name": "python",
   "nbconvert_exporter": "python",
   "pygments_lexer": "ipython2",
   "version": "2.7.6"
  }
 },
 "nbformat": 4,
 "nbformat_minor": 0
}