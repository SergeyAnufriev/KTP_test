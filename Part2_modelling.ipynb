{
 "cells": [
  {
   "cell_type": "code",
   "execution_count": 1,
   "outputs": [],
   "source": [
    "import optuna\n",
    "import numpy as np\n",
    "from sklearn.model_selection import cross_val_score,train_test_split\n",
    "import pandas as pd\n",
    "from sklearn.ensemble import GradientBoostingRegressor\n",
    "import math\n",
    "from sklearn.model_selection import train_test_split\n",
    "from sklearn.metrics import r2_score,mean_absolute_percentage_error\n",
    "import matplotlib.pyplot as plt"
   ],
   "metadata": {
    "collapsed": false,
    "pycharm": {
     "name": "#%%\n"
    }
   }
  },
  {
   "cell_type": "code",
   "execution_count": 2,
   "outputs": [],
   "source": [
    "dir_ = r'C:\\Users\\zcemg08\\DataspellProjects\\KTP_test\\data\\calibration.csv'\n",
    "df = pd.read_csv(dir_)\n",
    "\n",
    "df_blank = df[df['Sample']=='Blank']\n",
    "df_pigment = df[df['Sample']=='S1']\n",
    "\n",
    "### Data for solvent only\n",
    "df_blank = df_blank.groupby('Dilution').mean(numeric_only=True)\n",
    "### data for pigment and solvent\n",
    "df_pigment = df_pigment.groupby('Dilution').mean(numeric_only=True)\n",
    "### A values for pigment\n",
    "df_pigment_train = df_pigment-df_blank.values"
   ],
   "metadata": {
    "collapsed": false,
    "pycharm": {
     "name": "#%%\n"
    }
   }
  },
  {
   "cell_type": "markdown",
   "source": [
    "1. Find E values for each dilute value (devide A by CL)"
   ],
   "metadata": {
    "collapsed": false,
    "pycharm": {
     "name": "#%% md\n"
    }
   }
  },
  {
   "cell_type": "code",
   "execution_count": 3,
   "outputs": [],
   "source": [
    "WAVELENGTH = np.array([220 + 2*x for x in range(291)])\n",
    "sensetive_region = np.where((WAVELENGTH>300) &(WAVELENGTH<600))[0]\n",
    "\n",
    "df_pigment_train = df_pigment_train[df_pigment_train.index<16] ### exclude small dilute values, since their contribution to A total is small and can be obscured by measurments errors\n",
    "\n",
    "df_pigment_train = df_pigment_train.iloc[:,sensetive_region]\n",
    "sensetive_waves  = WAVELENGTH[sensetive_region]"
   ],
   "metadata": {
    "collapsed": false,
    "pycharm": {
     "name": "#%%\n"
    }
   }
  },
  {
   "cell_type": "code",
   "execution_count": 4,
   "outputs": [
    {
     "data": {
      "text/plain": "          Raw Data (Abs Spectrum).41  Raw Data (Abs Spectrum).42  \\\nDilution                                                           \n1                              0.155                    0.145667   \n2                              0.068                    0.065000   \n4                              0.021                    0.020667   \n8                             -0.001                    0.000000   \n\n          Raw Data (Abs Spectrum).43  Raw Data (Abs Spectrum).44  \\\nDilution                                                           \n1                           0.136333                    0.129333   \n2                           0.061000                    0.058333   \n4                           0.019667                    0.019667   \n8                           0.001000                    0.001667   \n\n          Raw Data (Abs Spectrum).45  Raw Data (Abs Spectrum).46  \\\nDilution                                                           \n1                           0.125000                    0.123000   \n2                           0.055667                    0.055000   \n4                           0.019000                    0.019333   \n8                           0.001667                    0.002667   \n\n          Raw Data (Abs Spectrum).47  Raw Data (Abs Spectrum).48  \\\nDilution                                                           \n1                           0.121000                    0.120667   \n2                           0.054333                    0.054000   \n4                           0.019667                    0.020000   \n8                           0.003000                    0.003667   \n\n          Raw Data (Abs Spectrum).49  Raw Data (Abs Spectrum).50  ...  \\\nDilution                                                          ...   \n1                           0.121000                    0.122333  ...   \n2                           0.054333                    0.056667  ...   \n4                           0.020667                    0.023000  ...   \n8                           0.004333                    0.006000  ...   \n\n          Raw Data (Abs Spectrum).180  Raw Data (Abs Spectrum).181  \\\nDilution                                                             \n1                            0.062000                     0.058333   \n2                            0.029667                     0.027667   \n4                            0.015333                     0.014000   \n8                            0.009000                     0.008333   \n\n          Raw Data (Abs Spectrum).182  Raw Data (Abs Spectrum).183  \\\nDilution                                                             \n1                            0.054667                     0.052333   \n2                            0.025667                     0.024000   \n4                            0.012667                     0.012667   \n8                            0.008000                     0.007667   \n\n          Raw Data (Abs Spectrum).184  Raw Data (Abs Spectrum).185  \\\nDilution                                                             \n1                            0.049667                     0.047667   \n2                            0.023333                     0.021667   \n4                            0.011667                     0.011000   \n8                            0.006667                     0.006667   \n\n          Raw Data (Abs Spectrum).186  Raw Data (Abs Spectrum).187  \\\nDilution                                                             \n1                            0.047000                     0.046000   \n2                            0.021667                     0.020667   \n4                            0.011000                     0.010333   \n8                            0.007000                     0.006333   \n\n          Raw Data (Abs Spectrum).188  Raw Data (Abs Spectrum).189  \nDilution                                                            \n1                            0.045333                     0.043667  \n2                            0.020000                     0.019000  \n4                            0.009333                     0.009333  \n8                            0.005333                     0.005667  \n\n[4 rows x 149 columns]",
      "text/html": "<div>\n<style scoped>\n    .dataframe tbody tr th:only-of-type {\n        vertical-align: middle;\n    }\n\n    .dataframe tbody tr th {\n        vertical-align: top;\n    }\n\n    .dataframe thead th {\n        text-align: right;\n    }\n</style>\n<table border=\"1\" class=\"dataframe\">\n  <thead>\n    <tr style=\"text-align: right;\">\n      <th></th>\n      <th>Raw Data (Abs Spectrum).41</th>\n      <th>Raw Data (Abs Spectrum).42</th>\n      <th>Raw Data (Abs Spectrum).43</th>\n      <th>Raw Data (Abs Spectrum).44</th>\n      <th>Raw Data (Abs Spectrum).45</th>\n      <th>Raw Data (Abs Spectrum).46</th>\n      <th>Raw Data (Abs Spectrum).47</th>\n      <th>Raw Data (Abs Spectrum).48</th>\n      <th>Raw Data (Abs Spectrum).49</th>\n      <th>Raw Data (Abs Spectrum).50</th>\n      <th>...</th>\n      <th>Raw Data (Abs Spectrum).180</th>\n      <th>Raw Data (Abs Spectrum).181</th>\n      <th>Raw Data (Abs Spectrum).182</th>\n      <th>Raw Data (Abs Spectrum).183</th>\n      <th>Raw Data (Abs Spectrum).184</th>\n      <th>Raw Data (Abs Spectrum).185</th>\n      <th>Raw Data (Abs Spectrum).186</th>\n      <th>Raw Data (Abs Spectrum).187</th>\n      <th>Raw Data (Abs Spectrum).188</th>\n      <th>Raw Data (Abs Spectrum).189</th>\n    </tr>\n    <tr>\n      <th>Dilution</th>\n      <th></th>\n      <th></th>\n      <th></th>\n      <th></th>\n      <th></th>\n      <th></th>\n      <th></th>\n      <th></th>\n      <th></th>\n      <th></th>\n      <th></th>\n      <th></th>\n      <th></th>\n      <th></th>\n      <th></th>\n      <th></th>\n      <th></th>\n      <th></th>\n      <th></th>\n      <th></th>\n      <th></th>\n    </tr>\n  </thead>\n  <tbody>\n    <tr>\n      <th>1</th>\n      <td>0.155</td>\n      <td>0.145667</td>\n      <td>0.136333</td>\n      <td>0.129333</td>\n      <td>0.125000</td>\n      <td>0.123000</td>\n      <td>0.121000</td>\n      <td>0.120667</td>\n      <td>0.121000</td>\n      <td>0.122333</td>\n      <td>...</td>\n      <td>0.062000</td>\n      <td>0.058333</td>\n      <td>0.054667</td>\n      <td>0.052333</td>\n      <td>0.049667</td>\n      <td>0.047667</td>\n      <td>0.047000</td>\n      <td>0.046000</td>\n      <td>0.045333</td>\n      <td>0.043667</td>\n    </tr>\n    <tr>\n      <th>2</th>\n      <td>0.068</td>\n      <td>0.065000</td>\n      <td>0.061000</td>\n      <td>0.058333</td>\n      <td>0.055667</td>\n      <td>0.055000</td>\n      <td>0.054333</td>\n      <td>0.054000</td>\n      <td>0.054333</td>\n      <td>0.056667</td>\n      <td>...</td>\n      <td>0.029667</td>\n      <td>0.027667</td>\n      <td>0.025667</td>\n      <td>0.024000</td>\n      <td>0.023333</td>\n      <td>0.021667</td>\n      <td>0.021667</td>\n      <td>0.020667</td>\n      <td>0.020000</td>\n      <td>0.019000</td>\n    </tr>\n    <tr>\n      <th>4</th>\n      <td>0.021</td>\n      <td>0.020667</td>\n      <td>0.019667</td>\n      <td>0.019667</td>\n      <td>0.019000</td>\n      <td>0.019333</td>\n      <td>0.019667</td>\n      <td>0.020000</td>\n      <td>0.020667</td>\n      <td>0.023000</td>\n      <td>...</td>\n      <td>0.015333</td>\n      <td>0.014000</td>\n      <td>0.012667</td>\n      <td>0.012667</td>\n      <td>0.011667</td>\n      <td>0.011000</td>\n      <td>0.011000</td>\n      <td>0.010333</td>\n      <td>0.009333</td>\n      <td>0.009333</td>\n    </tr>\n    <tr>\n      <th>8</th>\n      <td>-0.001</td>\n      <td>0.000000</td>\n      <td>0.001000</td>\n      <td>0.001667</td>\n      <td>0.001667</td>\n      <td>0.002667</td>\n      <td>0.003000</td>\n      <td>0.003667</td>\n      <td>0.004333</td>\n      <td>0.006000</td>\n      <td>...</td>\n      <td>0.009000</td>\n      <td>0.008333</td>\n      <td>0.008000</td>\n      <td>0.007667</td>\n      <td>0.006667</td>\n      <td>0.006667</td>\n      <td>0.007000</td>\n      <td>0.006333</td>\n      <td>0.005333</td>\n      <td>0.005667</td>\n    </tr>\n  </tbody>\n</table>\n<p>4 rows × 149 columns</p>\n</div>"
     },
     "execution_count": 4,
     "metadata": {},
     "output_type": "execute_result"
    }
   ],
   "source": [
    "df_pigment_train"
   ],
   "metadata": {
    "collapsed": false,
    "pycharm": {
     "name": "#%%\n"
    }
   }
  },
  {
   "cell_type": "code",
   "execution_count": 5,
   "outputs": [],
   "source": [
    "df_pigment_train_e = df_pigment_train.copy()\n",
    "\n",
    "for i,j in enumerate([1,2,4,8]):\n",
    "    df_pigment_train_e.values[i,:] =df_pigment_train.values[i,:]/(1*50*2**(-math.log(j,2)))"
   ],
   "metadata": {
    "collapsed": false,
    "pycharm": {
     "name": "#%%\n"
    }
   }
  },
  {
   "cell_type": "code",
   "execution_count": 6,
   "outputs": [
    {
     "data": {
      "text/plain": "          Raw Data (Abs Spectrum).41  Raw Data (Abs Spectrum).42  \\\nDilution                                                           \n1                            0.00310                    0.002913   \n2                            0.00272                    0.002600   \n4                            0.00168                    0.001653   \n8                           -0.00016                    0.000000   \n\n          Raw Data (Abs Spectrum).43  Raw Data (Abs Spectrum).44  \\\nDilution                                                           \n1                           0.002727                    0.002587   \n2                           0.002440                    0.002333   \n4                           0.001573                    0.001573   \n8                           0.000160                    0.000267   \n\n          Raw Data (Abs Spectrum).45  Raw Data (Abs Spectrum).46  \\\nDilution                                                           \n1                           0.002500                    0.002460   \n2                           0.002227                    0.002200   \n4                           0.001520                    0.001547   \n8                           0.000267                    0.000427   \n\n          Raw Data (Abs Spectrum).47  Raw Data (Abs Spectrum).48  \\\nDilution                                                           \n1                           0.002420                    0.002413   \n2                           0.002173                    0.002160   \n4                           0.001573                    0.001600   \n8                           0.000480                    0.000587   \n\n          Raw Data (Abs Spectrum).49  Raw Data (Abs Spectrum).50  ...  \\\nDilution                                                          ...   \n1                           0.002420                    0.002447  ...   \n2                           0.002173                    0.002267  ...   \n4                           0.001653                    0.001840  ...   \n8                           0.000693                    0.000960  ...   \n\n          Raw Data (Abs Spectrum).180  Raw Data (Abs Spectrum).181  \\\nDilution                                                             \n1                            0.001240                     0.001167   \n2                            0.001187                     0.001107   \n4                            0.001227                     0.001120   \n8                            0.001440                     0.001333   \n\n          Raw Data (Abs Spectrum).182  Raw Data (Abs Spectrum).183  \\\nDilution                                                             \n1                            0.001093                     0.001047   \n2                            0.001027                     0.000960   \n4                            0.001013                     0.001013   \n8                            0.001280                     0.001227   \n\n          Raw Data (Abs Spectrum).184  Raw Data (Abs Spectrum).185  \\\nDilution                                                             \n1                            0.000993                     0.000953   \n2                            0.000933                     0.000867   \n4                            0.000933                     0.000880   \n8                            0.001067                     0.001067   \n\n          Raw Data (Abs Spectrum).186  Raw Data (Abs Spectrum).187  \\\nDilution                                                             \n1                            0.000940                     0.000920   \n2                            0.000867                     0.000827   \n4                            0.000880                     0.000827   \n8                            0.001120                     0.001013   \n\n          Raw Data (Abs Spectrum).188  Raw Data (Abs Spectrum).189  \nDilution                                                            \n1                            0.000907                     0.000873  \n2                            0.000800                     0.000760  \n4                            0.000747                     0.000747  \n8                            0.000853                     0.000907  \n\n[4 rows x 149 columns]",
      "text/html": "<div>\n<style scoped>\n    .dataframe tbody tr th:only-of-type {\n        vertical-align: middle;\n    }\n\n    .dataframe tbody tr th {\n        vertical-align: top;\n    }\n\n    .dataframe thead th {\n        text-align: right;\n    }\n</style>\n<table border=\"1\" class=\"dataframe\">\n  <thead>\n    <tr style=\"text-align: right;\">\n      <th></th>\n      <th>Raw Data (Abs Spectrum).41</th>\n      <th>Raw Data (Abs Spectrum).42</th>\n      <th>Raw Data (Abs Spectrum).43</th>\n      <th>Raw Data (Abs Spectrum).44</th>\n      <th>Raw Data (Abs Spectrum).45</th>\n      <th>Raw Data (Abs Spectrum).46</th>\n      <th>Raw Data (Abs Spectrum).47</th>\n      <th>Raw Data (Abs Spectrum).48</th>\n      <th>Raw Data (Abs Spectrum).49</th>\n      <th>Raw Data (Abs Spectrum).50</th>\n      <th>...</th>\n      <th>Raw Data (Abs Spectrum).180</th>\n      <th>Raw Data (Abs Spectrum).181</th>\n      <th>Raw Data (Abs Spectrum).182</th>\n      <th>Raw Data (Abs Spectrum).183</th>\n      <th>Raw Data (Abs Spectrum).184</th>\n      <th>Raw Data (Abs Spectrum).185</th>\n      <th>Raw Data (Abs Spectrum).186</th>\n      <th>Raw Data (Abs Spectrum).187</th>\n      <th>Raw Data (Abs Spectrum).188</th>\n      <th>Raw Data (Abs Spectrum).189</th>\n    </tr>\n    <tr>\n      <th>Dilution</th>\n      <th></th>\n      <th></th>\n      <th></th>\n      <th></th>\n      <th></th>\n      <th></th>\n      <th></th>\n      <th></th>\n      <th></th>\n      <th></th>\n      <th></th>\n      <th></th>\n      <th></th>\n      <th></th>\n      <th></th>\n      <th></th>\n      <th></th>\n      <th></th>\n      <th></th>\n      <th></th>\n      <th></th>\n    </tr>\n  </thead>\n  <tbody>\n    <tr>\n      <th>1</th>\n      <td>0.00310</td>\n      <td>0.002913</td>\n      <td>0.002727</td>\n      <td>0.002587</td>\n      <td>0.002500</td>\n      <td>0.002460</td>\n      <td>0.002420</td>\n      <td>0.002413</td>\n      <td>0.002420</td>\n      <td>0.002447</td>\n      <td>...</td>\n      <td>0.001240</td>\n      <td>0.001167</td>\n      <td>0.001093</td>\n      <td>0.001047</td>\n      <td>0.000993</td>\n      <td>0.000953</td>\n      <td>0.000940</td>\n      <td>0.000920</td>\n      <td>0.000907</td>\n      <td>0.000873</td>\n    </tr>\n    <tr>\n      <th>2</th>\n      <td>0.00272</td>\n      <td>0.002600</td>\n      <td>0.002440</td>\n      <td>0.002333</td>\n      <td>0.002227</td>\n      <td>0.002200</td>\n      <td>0.002173</td>\n      <td>0.002160</td>\n      <td>0.002173</td>\n      <td>0.002267</td>\n      <td>...</td>\n      <td>0.001187</td>\n      <td>0.001107</td>\n      <td>0.001027</td>\n      <td>0.000960</td>\n      <td>0.000933</td>\n      <td>0.000867</td>\n      <td>0.000867</td>\n      <td>0.000827</td>\n      <td>0.000800</td>\n      <td>0.000760</td>\n    </tr>\n    <tr>\n      <th>4</th>\n      <td>0.00168</td>\n      <td>0.001653</td>\n      <td>0.001573</td>\n      <td>0.001573</td>\n      <td>0.001520</td>\n      <td>0.001547</td>\n      <td>0.001573</td>\n      <td>0.001600</td>\n      <td>0.001653</td>\n      <td>0.001840</td>\n      <td>...</td>\n      <td>0.001227</td>\n      <td>0.001120</td>\n      <td>0.001013</td>\n      <td>0.001013</td>\n      <td>0.000933</td>\n      <td>0.000880</td>\n      <td>0.000880</td>\n      <td>0.000827</td>\n      <td>0.000747</td>\n      <td>0.000747</td>\n    </tr>\n    <tr>\n      <th>8</th>\n      <td>-0.00016</td>\n      <td>0.000000</td>\n      <td>0.000160</td>\n      <td>0.000267</td>\n      <td>0.000267</td>\n      <td>0.000427</td>\n      <td>0.000480</td>\n      <td>0.000587</td>\n      <td>0.000693</td>\n      <td>0.000960</td>\n      <td>...</td>\n      <td>0.001440</td>\n      <td>0.001333</td>\n      <td>0.001280</td>\n      <td>0.001227</td>\n      <td>0.001067</td>\n      <td>0.001067</td>\n      <td>0.001120</td>\n      <td>0.001013</td>\n      <td>0.000853</td>\n      <td>0.000907</td>\n    </tr>\n  </tbody>\n</table>\n<p>4 rows × 149 columns</p>\n</div>"
     },
     "execution_count": 6,
     "metadata": {},
     "output_type": "execute_result"
    }
   ],
   "source": [
    "df_pigment_train_e ## E values now look mostly simillar for all waves numbers"
   ],
   "metadata": {
    "collapsed": false,
    "pycharm": {
     "name": "#%%\n"
    }
   }
  },
  {
   "cell_type": "markdown",
   "source": [
    "2. Build 4 E models then use average of their prediction in order to lower bias contribution from each experiment"
   ],
   "metadata": {
    "collapsed": false,
    "pycharm": {
     "name": "#%% md\n"
    }
   }
  },
  {
   "cell_type": "code",
   "execution_count": 7,
   "outputs": [],
   "source": [
    "class model_build:\n",
    "    def __init__(self,X_train,y_train):\n",
    "        self.X_train = X_train\n",
    "        self.y_train = y_train\n",
    "\n",
    "    def gbm_objective(self,trial):\n",
    "        '''Function evaluates model params on cross validation by negative MSE'''\n",
    "\n",
    "        learning_rate = trial.suggest_float('learning_rate',0.001,0.5,log=True)\n",
    "        n_estimators = trial.suggest_int('n_estimators',3,20)\n",
    "        max_depth = trial.suggest_int('max_depth',2,7)\n",
    "        subsample = trial.suggest_float('subsample',0.2,0.9)\n",
    "        m = GradientBoostingRegressor(max_depth=max_depth,n_estimators=n_estimators,learning_rate=learning_rate,subsample=subsample)\n",
    "\n",
    "        return np.mean(cross_val_score(m,self.X_train,self.y_train,cv=4,n_jobs=2,scoring='neg_mean_squared_error'))\n",
    "\n",
    "    def find_params(self,objective):\n",
    "        '''Optimiser looks for model best params by MSE cross val score feedback'''\n",
    "\n",
    "        study = optuna.create_study(direction=\"maximize\")\n",
    "        study.optimize(objective, n_trials=50)\n",
    "\n",
    "        return study.best_params\n",
    "\n",
    "    def build_model(self):\n",
    "        '''Function returns optimized sklearn model'''\n",
    "\n",
    "        model  = GradientBoostingRegressor()\n",
    "        params = self.find_params(self.gbm_objective)\n",
    "        model.set_params(**params)\n",
    "        model.fit(self.X_train,self.y_train)\n",
    "\n",
    "        return model"
   ],
   "metadata": {
    "collapsed": false,
    "pycharm": {
     "name": "#%%\n"
    }
   }
  },
  {
   "cell_type": "code",
   "execution_count": 8,
   "outputs": [],
   "source": [
    "### Make 4 splits for each dilute values in order to build 4 E models\n",
    "\n",
    "X_train1,X_test1, y_train1, y_test1 = train_test_split(np.expand_dims(sensetive_waves,axis=1),df_pigment_train_e.values[0,:],random_state=42,shuffle=True,test_size=0.15)\n",
    "\n",
    "X_train2,X_test2, y_train2, y_test2 = train_test_split(np.expand_dims(sensetive_waves,axis=1),df_pigment_train_e.values[1,:],random_state=42,shuffle=True,test_size=0.15)\n",
    "\n",
    "X_train3,X_test3, y_train3, y_test3 = train_test_split(np.expand_dims(sensetive_waves,axis=1),df_pigment_train_e.values[2,:],random_state=42,shuffle=True,test_size=0.15)\n",
    "\n",
    "X_train4,X_test4, y_train4, y_test4 = train_test_split(np.expand_dims(sensetive_waves,axis=1),df_pigment_train_e.values[3,:],random_state=42,shuffle=True,test_size=0.15)"
   ],
   "metadata": {
    "collapsed": false,
    "pycharm": {
     "name": "#%%\n"
    }
   }
  },
  {
   "cell_type": "code",
   "execution_count": 9,
   "outputs": [
    {
     "name": "stderr",
     "output_type": "stream",
     "text": [
      "\u001B[32m[I 2022-11-05 13:55:59,069]\u001B[0m A new study created in memory with name: no-name-e4042d52-7000-4f5e-8e31-51b0447147a5\u001B[0m\n",
      "\u001B[32m[I 2022-11-05 13:56:02,180]\u001B[0m Trial 0 finished with value: -1.2698982602969464e-05 and parameters: {'learning_rate': 0.06653289063382073, 'n_estimators': 13, 'max_depth': 4, 'subsample': 0.7043202459815108}. Best is trial 0 with value: -1.2698982602969464e-05.\u001B[0m\n",
      "\u001B[32m[I 2022-11-05 13:56:02,253]\u001B[0m Trial 1 finished with value: -6.111749501262043e-05 and parameters: {'learning_rate': 0.014527925361523605, 'n_estimators': 4, 'max_depth': 6, 'subsample': 0.2835406107150306}. Best is trial 0 with value: -1.2698982602969464e-05.\u001B[0m\n",
      "\u001B[32m[I 2022-11-05 13:56:02,325]\u001B[0m Trial 2 finished with value: -7.277084648823081e-07 and parameters: {'learning_rate': 0.3559316904987455, 'n_estimators': 14, 'max_depth': 3, 'subsample': 0.7332867057014258}. Best is trial 2 with value: -7.277084648823081e-07.\u001B[0m\n",
      "\u001B[32m[I 2022-11-05 13:56:02,399]\u001B[0m Trial 3 finished with value: -4.902400894195229e-05 and parameters: {'learning_rate': 0.0123164097060408, 'n_estimators': 14, 'max_depth': 4, 'subsample': 0.5500573682143723}. Best is trial 2 with value: -7.277084648823081e-07.\u001B[0m\n",
      "\u001B[32m[I 2022-11-05 13:56:02,443]\u001B[0m Trial 4 finished with value: -5.870466910379781e-05 and parameters: {'learning_rate': 0.008595662881021952, 'n_estimators': 12, 'max_depth': 2, 'subsample': 0.5158946210148886}. Best is trial 2 with value: -7.277084648823081e-07.\u001B[0m\n",
      "\u001B[32m[I 2022-11-05 13:56:02,480]\u001B[0m Trial 5 finished with value: -5.471569520601896e-05 and parameters: {'learning_rate': 0.01712068672416234, 'n_estimators': 7, 'max_depth': 3, 'subsample': 0.8029796895988914}. Best is trial 2 with value: -7.277084648823081e-07.\u001B[0m\n",
      "\u001B[32m[I 2022-11-05 13:56:02,540]\u001B[0m Trial 6 finished with value: -3.6186516981456026e-05 and parameters: {'learning_rate': 0.01772431022241082, 'n_estimators': 18, 'max_depth': 6, 'subsample': 0.8405687429731625}. Best is trial 2 with value: -7.277084648823081e-07.\u001B[0m\n",
      "\u001B[32m[I 2022-11-05 13:56:02,596]\u001B[0m Trial 7 finished with value: -6.243244319432839e-05 and parameters: {'learning_rate': 0.0034020525310786516, 'n_estimators': 13, 'max_depth': 7, 'subsample': 0.8248647550130763}. Best is trial 2 with value: -7.277084648823081e-07.\u001B[0m\n",
      "\u001B[32m[I 2022-11-05 13:56:02,671]\u001B[0m Trial 8 finished with value: -2.634235079716901e-06 and parameters: {'learning_rate': 0.1965505449161704, 'n_estimators': 14, 'max_depth': 2, 'subsample': 0.731230548602996}. Best is trial 2 with value: -7.277084648823081e-07.\u001B[0m\n",
      "\u001B[32m[I 2022-11-05 13:56:02,712]\u001B[0m Trial 9 finished with value: -6.037239932430382e-06 and parameters: {'learning_rate': 0.09625598304357112, 'n_estimators': 13, 'max_depth': 4, 'subsample': 0.8230955034121978}. Best is trial 2 with value: -7.277084648823081e-07.\u001B[0m\n",
      "\u001B[32m[I 2022-11-05 13:56:02,804]\u001B[0m Trial 10 finished with value: -9.995739036249447e-07 and parameters: {'learning_rate': 0.3281442773412582, 'n_estimators': 19, 'max_depth': 3, 'subsample': 0.5620663260975441}. Best is trial 2 with value: -7.277084648823081e-07.\u001B[0m\n",
      "\u001B[32m[I 2022-11-05 13:56:02,898]\u001B[0m Trial 11 finished with value: -1.5013815351425402e-06 and parameters: {'learning_rate': 0.44848415568662775, 'n_estimators': 20, 'max_depth': 3, 'subsample': 0.5720807983827275}. Best is trial 2 with value: -7.277084648823081e-07.\u001B[0m\n",
      "\u001B[32m[I 2022-11-05 13:56:02,983]\u001B[0m Trial 12 finished with value: -1.4050804792340163e-06 and parameters: {'learning_rate': 0.4973386935865066, 'n_estimators': 17, 'max_depth': 3, 'subsample': 0.30964615302453313}. Best is trial 2 with value: -7.277084648823081e-07.\u001B[0m\n",
      "\u001B[32m[I 2022-11-05 13:56:03,059]\u001B[0m Trial 13 finished with value: -1.587502170366211e-05 and parameters: {'learning_rate': 0.08358761928965569, 'n_estimators': 9, 'max_depth': 5, 'subsample': 0.42653366339928495}. Best is trial 2 with value: -7.277084648823081e-07.\u001B[0m\n",
      "\u001B[32m[I 2022-11-05 13:56:03,156]\u001B[0m Trial 14 finished with value: -6.625168348440755e-05 and parameters: {'learning_rate': 0.0011032334300833978, 'n_estimators': 17, 'max_depth': 2, 'subsample': 0.6794582315408719}. Best is trial 2 with value: -7.277084648823081e-07.\u001B[0m\n",
      "\u001B[32m[I 2022-11-05 13:56:03,247]\u001B[0m Trial 15 finished with value: -8.718205514913922e-07 and parameters: {'learning_rate': 0.19952874640459414, 'n_estimators': 20, 'max_depth': 3, 'subsample': 0.6198158851207224}. Best is trial 2 with value: -7.277084648823081e-07.\u001B[0m\n",
      "\u001B[32m[I 2022-11-05 13:56:03,304]\u001B[0m Trial 16 finished with value: -3.650661433499854e-06 and parameters: {'learning_rate': 0.15390871080323815, 'n_estimators': 9, 'max_depth': 5, 'subsample': 0.6379183317744}. Best is trial 2 with value: -7.277084648823081e-07.\u001B[0m\n",
      "\u001B[32m[I 2022-11-05 13:56:03,366]\u001B[0m Trial 17 finished with value: -2.5191384561456657e-05 and parameters: {'learning_rate': 0.045146476663872746, 'n_estimators': 16, 'max_depth': 2, 'subsample': 0.43382206811718277}. Best is trial 2 with value: -7.277084648823081e-07.\u001B[0m\n",
      "\u001B[32m[I 2022-11-05 13:56:03,426]\u001B[0m Trial 18 finished with value: -3.465608939396592e-05 and parameters: {'learning_rate': 0.03731919992951976, 'n_estimators': 10, 'max_depth': 3, 'subsample': 0.8935762433576011}. Best is trial 2 with value: -7.277084648823081e-07.\u001B[0m\n",
      "\u001B[32m[I 2022-11-05 13:56:03,503]\u001B[0m Trial 19 finished with value: -5.053122978255345e-07 and parameters: {'learning_rate': 0.16618458389489943, 'n_estimators': 20, 'max_depth': 4, 'subsample': 0.6418611629784523}. Best is trial 19 with value: -5.053122978255345e-07.\u001B[0m\n",
      "\u001B[32m[I 2022-11-05 13:56:03,566]\u001B[0m Trial 20 finished with value: -5.526942334732678e-07 and parameters: {'learning_rate': 0.25421919355760525, 'n_estimators': 15, 'max_depth': 5, 'subsample': 0.7472843142557859}. Best is trial 19 with value: -5.053122978255345e-07.\u001B[0m\n",
      "\u001B[32m[I 2022-11-05 13:56:03,631]\u001B[0m Trial 21 finished with value: -4.063001222096343e-07 and parameters: {'learning_rate': 0.26354645349082395, 'n_estimators': 15, 'max_depth': 5, 'subsample': 0.7502987838159016}. Best is trial 21 with value: -4.063001222096343e-07.\u001B[0m\n",
      "\u001B[32m[I 2022-11-05 13:56:03,698]\u001B[0m Trial 22 finished with value: -9.228975825580234e-07 and parameters: {'learning_rate': 0.1442106656172923, 'n_estimators': 16, 'max_depth': 5, 'subsample': 0.7688027416704788}. Best is trial 21 with value: -4.063001222096343e-07.\u001B[0m\n",
      "\u001B[32m[I 2022-11-05 13:56:03,765]\u001B[0m Trial 23 finished with value: -7.693779075780379e-07 and parameters: {'learning_rate': 0.2532664503323901, 'n_estimators': 16, 'max_depth': 6, 'subsample': 0.6530766319665042}. Best is trial 21 with value: -4.063001222096343e-07.\u001B[0m\n",
      "\u001B[32m[I 2022-11-05 13:56:03,832]\u001B[0m Trial 24 finished with value: -1.5991224283261963e-06 and parameters: {'learning_rate': 0.10843096282022557, 'n_estimators': 18, 'max_depth': 5, 'subsample': 0.4727989855320986}. Best is trial 21 with value: -4.063001222096343e-07.\u001B[0m\n",
      "\u001B[32m[I 2022-11-05 13:56:03,912]\u001B[0m Trial 25 finished with value: -1.6560395835629933e-05 and parameters: {'learning_rate': 0.04562720391236779, 'n_estimators': 16, 'max_depth': 4, 'subsample': 0.7593056953636395}. Best is trial 21 with value: -4.063001222096343e-07.\u001B[0m\n",
      "\u001B[32m[I 2022-11-05 13:56:03,970]\u001B[0m Trial 26 finished with value: -4.7454733793526943e-07 and parameters: {'learning_rate': 0.26329894749104377, 'n_estimators': 11, 'max_depth': 7, 'subsample': 0.5973545869493664}. Best is trial 21 with value: -4.063001222096343e-07.\u001B[0m\n",
      "\u001B[32m[I 2022-11-05 13:56:04,040]\u001B[0m Trial 27 finished with value: -3.4421435895899604e-05 and parameters: {'learning_rate': 0.031074088995511635, 'n_estimators': 11, 'max_depth': 7, 'subsample': 0.6092820117261705}. Best is trial 21 with value: -4.063001222096343e-07.\u001B[0m\n",
      "\u001B[32m[I 2022-11-05 13:56:04,125]\u001B[0m Trial 28 finished with value: -1.5836469107846625e-05 and parameters: {'learning_rate': 0.06537932906029381, 'n_estimators': 11, 'max_depth': 7, 'subsample': 0.49686831543552645}. Best is trial 21 with value: -4.063001222096343e-07.\u001B[0m\n",
      "\u001B[32m[I 2022-11-05 13:56:04,192]\u001B[0m Trial 29 finished with value: -9.643119881867809e-06 and parameters: {'learning_rate': 0.1332312509667819, 'n_estimators': 7, 'max_depth': 6, 'subsample': 0.6871859364482121}. Best is trial 21 with value: -4.063001222096343e-07.\u001B[0m\n",
      "\u001B[32m[I 2022-11-05 13:56:04,254]\u001B[0m Trial 30 finished with value: -2.6645944994924807e-05 and parameters: {'learning_rate': 0.07099129537839186, 'n_estimators': 7, 'max_depth': 4, 'subsample': 0.3571677952636577}. Best is trial 21 with value: -4.063001222096343e-07.\u001B[0m\n",
      "\u001B[32m[I 2022-11-05 13:56:04,309]\u001B[0m Trial 31 finished with value: -1.5509996991529239e-06 and parameters: {'learning_rate': 0.2611986237882476, 'n_estimators': 12, 'max_depth': 5, 'subsample': 0.21270029764772042}. Best is trial 21 with value: -4.063001222096343e-07.\u001B[0m\n",
      "\u001B[32m[I 2022-11-05 13:56:04,408]\u001B[0m Trial 32 finished with value: -4.906636415578153e-07 and parameters: {'learning_rate': 0.22778680832283693, 'n_estimators': 15, 'max_depth': 6, 'subsample': 0.7046776679783012}. Best is trial 21 with value: -4.063001222096343e-07.\u001B[0m\n",
      "\u001B[32m[I 2022-11-05 13:56:04,467]\u001B[0m Trial 33 finished with value: -6.047233148238168e-07 and parameters: {'learning_rate': 0.3555601616494123, 'n_estimators': 9, 'max_depth': 6, 'subsample': 0.6928454817584331}. Best is trial 21 with value: -4.063001222096343e-07.\u001B[0m\n",
      "\u001B[32m[I 2022-11-05 13:56:04,517]\u001B[0m Trial 34 finished with value: -2.1274002412437424e-05 and parameters: {'learning_rate': 0.18006799566992585, 'n_estimators': 3, 'max_depth': 7, 'subsample': 0.6588649091281614}. Best is trial 21 with value: -4.063001222096343e-07.\u001B[0m\n",
      "\u001B[32m[I 2022-11-05 13:56:04,589]\u001B[0m Trial 35 finished with value: -2.7172626086968977e-06 and parameters: {'learning_rate': 0.11256275157736387, 'n_estimators': 14, 'max_depth': 6, 'subsample': 0.5963871751250823}. Best is trial 21 with value: -4.063001222096343e-07.\u001B[0m\n",
      "\u001B[32m[I 2022-11-05 13:56:04,668]\u001B[0m Trial 36 finished with value: -6.475062494415369e-07 and parameters: {'learning_rate': 0.3350491599374933, 'n_estimators': 19, 'max_depth': 6, 'subsample': 0.8912055605836455}. Best is trial 21 with value: -4.063001222096343e-07.\u001B[0m\n",
      "\u001B[32m[I 2022-11-05 13:56:04,730]\u001B[0m Trial 37 finished with value: -5.7953711990718655e-06 and parameters: {'learning_rate': 0.2302223191181791, 'n_estimators': 5, 'max_depth': 7, 'subsample': 0.7148591527104945}. Best is trial 21 with value: -4.063001222096343e-07.\u001B[0m\n",
      "\u001B[32m[I 2022-11-05 13:56:04,794]\u001B[0m Trial 38 finished with value: -7.165533235488441e-07 and parameters: {'learning_rate': 0.4094003212576115, 'n_estimators': 12, 'max_depth': 4, 'subsample': 0.7823949222568621}. Best is trial 21 with value: -4.063001222096343e-07.\u001B[0m\n",
      "\u001B[32m[I 2022-11-05 13:56:04,866]\u001B[0m Trial 39 finished with value: -5.058660136887768e-05 and parameters: {'learning_rate': 0.010081458154211112, 'n_estimators': 15, 'max_depth': 7, 'subsample': 0.5457827030305801}. Best is trial 21 with value: -4.063001222096343e-07.\u001B[0m\n",
      "\u001B[32m[I 2022-11-05 13:56:04,979]\u001B[0m Trial 40 finished with value: -6.0401259146219654e-05 and parameters: {'learning_rate': 0.004659363751979801, 'n_estimators': 13, 'max_depth': 6, 'subsample': 0.719293737214524}. Best is trial 21 with value: -4.063001222096343e-07.\u001B[0m\n",
      "\u001B[32m[I 2022-11-05 13:56:05,061]\u001B[0m Trial 41 finished with value: -4.860233160602831e-07 and parameters: {'learning_rate': 0.25058454365726973, 'n_estimators': 15, 'max_depth': 5, 'subsample': 0.7396152163879351}. Best is trial 21 with value: -4.063001222096343e-07.\u001B[0m\n",
      "\u001B[32m[I 2022-11-05 13:56:05,143]\u001B[0m Trial 42 finished with value: -5.778658450841871e-07 and parameters: {'learning_rate': 0.31935591800865765, 'n_estimators': 15, 'max_depth': 5, 'subsample': 0.857506249904427}. Best is trial 21 with value: -4.063001222096343e-07.\u001B[0m\n",
      "\u001B[32m[I 2022-11-05 13:56:05,216]\u001B[0m Trial 43 finished with value: -6.505021000312483e-07 and parameters: {'learning_rate': 0.16086246480049315, 'n_estimators': 18, 'max_depth': 4, 'subsample': 0.7979914523187395}. Best is trial 21 with value: -4.063001222096343e-07.\u001B[0m\n",
      "\u001B[32m[I 2022-11-05 13:56:05,283]\u001B[0m Trial 44 finished with value: -4.685178814308343e-07 and parameters: {'learning_rate': 0.2807347480719308, 'n_estimators': 13, 'max_depth': 6, 'subsample': 0.6357790050535712}. Best is trial 21 with value: -4.063001222096343e-07.\u001B[0m\n",
      "\u001B[32m[I 2022-11-05 13:56:05,357]\u001B[0m Trial 45 finished with value: -8.982864759671455e-07 and parameters: {'learning_rate': 0.49092021629307353, 'n_estimators': 13, 'max_depth': 6, 'subsample': 0.7334271125719226}. Best is trial 21 with value: -4.063001222096343e-07.\u001B[0m\n",
      "\u001B[32m[I 2022-11-05 13:56:05,429]\u001B[0m Trial 46 finished with value: -5.2130171359116e-07 and parameters: {'learning_rate': 0.29848675174927797, 'n_estimators': 14, 'max_depth': 6, 'subsample': 0.5930047315397453}. Best is trial 21 with value: -4.063001222096343e-07.\u001B[0m\n",
      "\u001B[32m[I 2022-11-05 13:56:05,499]\u001B[0m Trial 47 finished with value: -5.08225066772419e-07 and parameters: {'learning_rate': 0.22056278879503716, 'n_estimators': 14, 'max_depth': 7, 'subsample': 0.5267704139610528}. Best is trial 21 with value: -4.063001222096343e-07.\u001B[0m\n",
      "\u001B[32m[I 2022-11-05 13:56:05,584]\u001B[0m Trial 48 finished with value: -1.0561927500184102e-05 and parameters: {'learning_rate': 0.09192501395853923, 'n_estimators': 10, 'max_depth': 5, 'subsample': 0.6847349993565551}. Best is trial 21 with value: -4.063001222096343e-07.\u001B[0m\n",
      "\u001B[32m[I 2022-11-05 13:56:05,672]\u001B[0m Trial 49 finished with value: -7.955497918162328e-06 and parameters: {'learning_rate': 0.0629249122084155, 'n_estimators': 17, 'max_depth': 6, 'subsample': 0.8119788698639867}. Best is trial 21 with value: -4.063001222096343e-07.\u001B[0m\n",
      "\u001B[32m[I 2022-11-05 13:56:05,689]\u001B[0m A new study created in memory with name: no-name-4bf5b82d-53fd-4d3b-9959-cb78f2ad0bbb\u001B[0m\n",
      "\u001B[32m[I 2022-11-05 13:56:05,714]\u001B[0m Trial 0 finished with value: -6.85918559729533e-05 and parameters: {'learning_rate': 0.002647991267748608, 'n_estimators': 4, 'max_depth': 6, 'subsample': 0.3872135488167452}. Best is trial 0 with value: -6.85918559729533e-05.\u001B[0m\n",
      "\u001B[32m[I 2022-11-05 13:56:05,738]\u001B[0m Trial 1 finished with value: -3.367152928846128e-05 and parameters: {'learning_rate': 0.08296064914272967, 'n_estimators': 6, 'max_depth': 2, 'subsample': 0.6698716202555268}. Best is trial 1 with value: -3.367152928846128e-05.\u001B[0m\n",
      "\u001B[32m[I 2022-11-05 13:56:05,770]\u001B[0m Trial 2 finished with value: -6.529206784438592e-05 and parameters: {'learning_rate': 0.0028235987529383324, 'n_estimators': 13, 'max_depth': 4, 'subsample': 0.6904784689910892}. Best is trial 1 with value: -3.367152928846128e-05.\u001B[0m\n",
      "\u001B[32m[I 2022-11-05 13:56:05,817]\u001B[0m Trial 3 finished with value: -5.7209141643305734e-05 and parameters: {'learning_rate': 0.005179141227779293, 'n_estimators': 20, 'max_depth': 7, 'subsample': 0.3927491899487067}. Best is trial 1 with value: -3.367152928846128e-05.\u001B[0m\n",
      "\u001B[32m[I 2022-11-05 13:56:05,843]\u001B[0m Trial 4 finished with value: -6.871533921645089e-05 and parameters: {'learning_rate': 0.0024198721666913695, 'n_estimators': 4, 'max_depth': 5, 'subsample': 0.8710465015397517}. Best is trial 1 with value: -3.367152928846128e-05.\u001B[0m\n",
      "\u001B[32m[I 2022-11-05 13:56:05,882]\u001B[0m Trial 5 finished with value: -5.823771167643734e-05 and parameters: {'learning_rate': 0.009270420329866826, 'n_estimators': 10, 'max_depth': 7, 'subsample': 0.5586393174709159}. Best is trial 1 with value: -3.367152928846128e-05.\u001B[0m\n",
      "\u001B[32m[I 2022-11-05 13:56:05,914]\u001B[0m Trial 6 finished with value: -9.77117865897594e-06 and parameters: {'learning_rate': 0.08076782190898048, 'n_estimators': 12, 'max_depth': 7, 'subsample': 0.8773290168469305}. Best is trial 6 with value: -9.77117865897594e-06.\u001B[0m\n",
      "\u001B[32m[I 2022-11-05 13:56:05,957]\u001B[0m Trial 7 finished with value: -6.673889755634553e-05 and parameters: {'learning_rate': 0.0014747184023934732, 'n_estimators': 17, 'max_depth': 4, 'subsample': 0.5886868993273924}. Best is trial 6 with value: -9.77117865897594e-06.\u001B[0m\n",
      "\u001B[32m[I 2022-11-05 13:56:05,999]\u001B[0m Trial 8 finished with value: -5.1984165827383694e-05 and parameters: {'learning_rate': 0.008689974783621098, 'n_estimators': 18, 'max_depth': 7, 'subsample': 0.2564218495640759}. Best is trial 6 with value: -9.77117865897594e-06.\u001B[0m\n",
      "\u001B[32m[I 2022-11-05 13:56:06,033]\u001B[0m Trial 9 finished with value: -6.226859261715909e-05 and parameters: {'learning_rate': 0.006628238365783921, 'n_estimators': 9, 'max_depth': 5, 'subsample': 0.6645922243119387}. Best is trial 6 with value: -9.77117865897594e-06.\u001B[0m\n",
      "\u001B[32m[I 2022-11-05 13:56:06,116]\u001B[0m Trial 10 finished with value: -1.9036550286877954e-06 and parameters: {'learning_rate': 0.37999976979233435, 'n_estimators': 14, 'max_depth': 2, 'subsample': 0.8792616893114982}. Best is trial 10 with value: -1.9036550286877954e-06.\u001B[0m\n",
      "\u001B[32m[I 2022-11-05 13:56:06,187]\u001B[0m Trial 11 finished with value: -1.37907428051087e-06 and parameters: {'learning_rate': 0.43276182466901303, 'n_estimators': 14, 'max_depth': 2, 'subsample': 0.8999101160090006}. Best is trial 11 with value: -1.37907428051087e-06.\u001B[0m\n",
      "\u001B[32m[I 2022-11-05 13:56:06,247]\u001B[0m Trial 12 finished with value: -1.459464179947823e-06 and parameters: {'learning_rate': 0.4387812324020805, 'n_estimators': 15, 'max_depth': 2, 'subsample': 0.7799896397464365}. Best is trial 11 with value: -1.37907428051087e-06.\u001B[0m\n",
      "\u001B[32m[I 2022-11-05 13:56:06,317]\u001B[0m Trial 13 finished with value: -1.104910871491806e-06 and parameters: {'learning_rate': 0.49890481272473053, 'n_estimators': 16, 'max_depth': 3, 'subsample': 0.7730510880079374}. Best is trial 13 with value: -1.104910871491806e-06.\u001B[0m\n",
      "\u001B[32m[I 2022-11-05 13:56:06,381]\u001B[0m Trial 14 finished with value: -2.0119813273267354e-06 and parameters: {'learning_rate': 0.13284808487421698, 'n_estimators': 16, 'max_depth': 3, 'subsample': 0.777733560934372}. Best is trial 13 with value: -1.104910871491806e-06.\u001B[0m\n",
      "\u001B[32m[I 2022-11-05 13:56:06,467]\u001B[0m Trial 15 finished with value: -2.275924147853433e-05 and parameters: {'learning_rate': 0.03147644801536036, 'n_estimators': 20, 'max_depth': 3, 'subsample': 0.7746452948207244}. Best is trial 13 with value: -1.104910871491806e-06.\u001B[0m\n",
      "\u001B[32m[I 2022-11-05 13:56:06,518]\u001B[0m Trial 16 finished with value: -2.3933578010043545e-06 and parameters: {'learning_rate': 0.20052078911593157, 'n_estimators': 10, 'max_depth': 3, 'subsample': 0.4636065113166675}. Best is trial 13 with value: -1.104910871491806e-06.\u001B[0m\n",
      "\u001B[32m[I 2022-11-05 13:56:06,582]\u001B[0m Trial 17 finished with value: -2.532871996072909e-05 and parameters: {'learning_rate': 0.03198332532706431, 'n_estimators': 18, 'max_depth': 3, 'subsample': 0.79737981853413}. Best is trial 13 with value: -1.104910871491806e-06.\u001B[0m\n",
      "\u001B[32m[I 2022-11-05 13:56:06,634]\u001B[0m Trial 18 finished with value: -8.548108171099485e-06 and parameters: {'learning_rate': 0.21234342601330702, 'n_estimators': 7, 'max_depth': 2, 'subsample': 0.7374466107107893}. Best is trial 13 with value: -1.104910871491806e-06.\u001B[0m\n",
      "\u001B[32m[I 2022-11-05 13:56:06,712]\u001B[0m Trial 19 finished with value: -1.2535436853664548e-05 and parameters: {'learning_rate': 0.06469919391097452, 'n_estimators': 14, 'max_depth': 4, 'subsample': 0.6105408668839021}. Best is trial 13 with value: -1.104910871491806e-06.\u001B[0m\n",
      "\u001B[32m[I 2022-11-05 13:56:06,770]\u001B[0m Trial 20 finished with value: -9.153444027042864e-07 and parameters: {'learning_rate': 0.4718508335567501, 'n_estimators': 11, 'max_depth': 3, 'subsample': 0.8292261287311716}. Best is trial 20 with value: -9.153444027042864e-07.\u001B[0m\n",
      "\u001B[32m[I 2022-11-05 13:56:06,832]\u001B[0m Trial 21 finished with value: -9.6022671550706e-07 and parameters: {'learning_rate': 0.4596887504774965, 'n_estimators': 12, 'max_depth': 3, 'subsample': 0.8382848231241115}. Best is trial 20 with value: -9.153444027042864e-07.\u001B[0m\n",
      "\u001B[32m[I 2022-11-05 13:56:06,893]\u001B[0m Trial 22 finished with value: -1.1885782434623077e-06 and parameters: {'learning_rate': 0.22230139609916275, 'n_estimators': 11, 'max_depth': 3, 'subsample': 0.8267421887367804}. Best is trial 20 with value: -9.153444027042864e-07.\u001B[0m\n",
      "\u001B[32m[I 2022-11-05 13:56:06,951]\u001B[0m Trial 23 finished with value: -1.0923210346510697e-06 and parameters: {'learning_rate': 0.31227627728264934, 'n_estimators': 8, 'max_depth': 4, 'subsample': 0.7262735857852868}. Best is trial 20 with value: -9.153444027042864e-07.\u001B[0m\n",
      "\u001B[32m[I 2022-11-05 13:56:07,005]\u001B[0m Trial 24 finished with value: -2.0829662308765668e-06 and parameters: {'learning_rate': 0.2341578997713741, 'n_estimators': 8, 'max_depth': 4, 'subsample': 0.7145755756660997}. Best is trial 20 with value: -9.153444027042864e-07.\u001B[0m\n",
      "\u001B[32m[I 2022-11-05 13:56:07,062]\u001B[0m Trial 25 finished with value: -1.5608573251987258e-05 and parameters: {'learning_rate': 0.12240920336284501, 'n_estimators': 6, 'max_depth': 5, 'subsample': 0.8336849933558801}. Best is trial 20 with value: -9.153444027042864e-07.\u001B[0m\n",
      "\u001B[32m[I 2022-11-05 13:56:07,137]\u001B[0m Trial 26 finished with value: -2.1119252559534198e-05 and parameters: {'learning_rate': 0.05198685274940714, 'n_estimators': 12, 'max_depth': 4, 'subsample': 0.5018971468173393}. Best is trial 20 with value: -9.153444027042864e-07.\u001B[0m\n",
      "\u001B[32m[I 2022-11-05 13:56:07,218]\u001B[0m Trial 27 finished with value: -5.219046524696634e-07 and parameters: {'learning_rate': 0.27897295072681116, 'n_estimators': 9, 'max_depth': 6, 'subsample': 0.6520732190450469}. Best is trial 27 with value: -5.219046524696634e-07.\u001B[0m\n",
      "\u001B[32m[I 2022-11-05 13:56:07,303]\u001B[0m Trial 28 finished with value: -3.666032859950825e-06 and parameters: {'learning_rate': 0.13174561959975736, 'n_estimators': 11, 'max_depth': 6, 'subsample': 0.6269679142266945}. Best is trial 27 with value: -5.219046524696634e-07.\u001B[0m\n",
      "\u001B[32m[I 2022-11-05 13:56:07,367]\u001B[0m Trial 29 finished with value: -9.55014782468943e-06 and parameters: {'learning_rate': 0.2928414189730132, 'n_estimators': 4, 'max_depth': 6, 'subsample': 0.20237024378023732}. Best is trial 27 with value: -5.219046524696634e-07.\u001B[0m\n",
      "\u001B[32m[I 2022-11-05 13:56:07,480]\u001B[0m Trial 30 finished with value: -5.194117639516087e-05 and parameters: {'learning_rate': 0.016711074085566928, 'n_estimators': 9, 'max_depth': 6, 'subsample': 0.5141547370166955}. Best is trial 27 with value: -5.219046524696634e-07.\u001B[0m\n",
      "\u001B[32m[I 2022-11-05 13:56:07,545]\u001B[0m Trial 31 finished with value: -5.178425482409166e-07 and parameters: {'learning_rate': 0.3172282546487459, 'n_estimators': 9, 'max_depth': 5, 'subsample': 0.8375515598399689}. Best is trial 31 with value: -5.178425482409166e-07.\u001B[0m\n",
      "\u001B[32m[I 2022-11-05 13:56:07,625]\u001B[0m Trial 32 finished with value: -4.488432684866382e-06 and parameters: {'learning_rate': 0.13726273442572823, 'n_estimators': 10, 'max_depth': 5, 'subsample': 0.835065170781812}. Best is trial 31 with value: -5.178425482409166e-07.\u001B[0m\n",
      "\u001B[32m[I 2022-11-05 13:56:07,683]\u001B[0m Trial 33 finished with value: -1.5023226706062243e-06 and parameters: {'learning_rate': 0.3099332352317564, 'n_estimators': 6, 'max_depth': 6, 'subsample': 0.6797884552379847}. Best is trial 31 with value: -5.178425482409166e-07.\u001B[0m\n",
      "\u001B[32m[I 2022-11-05 13:56:07,749]\u001B[0m Trial 34 finished with value: -8.362203496000413e-07 and parameters: {'learning_rate': 0.4861342749338879, 'n_estimators': 13, 'max_depth': 5, 'subsample': 0.8452528868741596}. Best is trial 31 with value: -5.178425482409166e-07.\u001B[0m\n",
      "\u001B[32m[I 2022-11-05 13:56:07,813]\u001B[0m Trial 35 finished with value: -1.0133573402478642e-06 and parameters: {'learning_rate': 0.17566991599824738, 'n_estimators': 13, 'max_depth': 5, 'subsample': 0.7295950165469899}. Best is trial 31 with value: -5.178425482409166e-07.\u001B[0m\n",
      "\u001B[32m[I 2022-11-05 13:56:07,876]\u001B[0m Trial 36 finished with value: -1.6385952200782002e-05 and parameters: {'learning_rate': 0.0913323900849866, 'n_estimators': 8, 'max_depth': 5, 'subsample': 0.6488862305666444}. Best is trial 31 with value: -5.178425482409166e-07.\u001B[0m\n",
      "\u001B[32m[I 2022-11-05 13:56:07,935]\u001B[0m Trial 37 finished with value: -8.391682167170233e-07 and parameters: {'learning_rate': 0.28092596865626934, 'n_estimators': 9, 'max_depth': 6, 'subsample': 0.8450304060971251}. Best is trial 31 with value: -5.178425482409166e-07.\u001B[0m\n",
      "\u001B[32m[I 2022-11-05 13:56:07,995]\u001B[0m Trial 38 finished with value: -3.3685375553120884e-06 and parameters: {'learning_rate': 0.2911905173421997, 'n_estimators': 5, 'max_depth': 6, 'subsample': 0.41893578123914665}. Best is trial 31 with value: -5.178425482409166e-07.\u001B[0m\n",
      "\u001B[32m[I 2022-11-05 13:56:08,048]\u001B[0m Trial 39 finished with value: -1.1079275442048208e-05 and parameters: {'learning_rate': 0.09933203416003676, 'n_estimators': 9, 'max_depth': 7, 'subsample': 0.5689579221953248}. Best is trial 31 with value: -5.178425482409166e-07.\u001B[0m\n",
      "\u001B[32m[I 2022-11-05 13:56:08,101]\u001B[0m Trial 40 finished with value: -3.17873966870603e-05 and parameters: {'learning_rate': 0.055308262927934435, 'n_estimators': 7, 'max_depth': 6, 'subsample': 0.8692169302674382}. Best is trial 31 with value: -5.178425482409166e-07.\u001B[0m\n",
      "\u001B[32m[I 2022-11-05 13:56:08,161]\u001B[0m Trial 41 finished with value: -6.068927589113752e-07 and parameters: {'learning_rate': 0.33204545113403466, 'n_estimators': 11, 'max_depth': 5, 'subsample': 0.8043845202619437}. Best is trial 31 with value: -5.178425482409166e-07.\u001B[0m\n",
      "\u001B[32m[I 2022-11-05 13:56:08,211]\u001B[0m Trial 42 finished with value: -1.1221184565997377e-06 and parameters: {'learning_rate': 0.17003468221966386, 'n_estimators': 13, 'max_depth': 5, 'subsample': 0.8040575920179456}. Best is trial 31 with value: -5.178425482409166e-07.\u001B[0m\n",
      "\u001B[32m[I 2022-11-05 13:56:08,278]\u001B[0m Trial 43 finished with value: -5.457282466724753e-07 and parameters: {'learning_rate': 0.30198073912399886, 'n_estimators': 10, 'max_depth': 5, 'subsample': 0.7517786564397212}. Best is trial 31 with value: -5.178425482409166e-07.\u001B[0m\n",
      "\u001B[32m[I 2022-11-05 13:56:08,331]\u001B[0m Trial 44 finished with value: -7.133671769397788e-07 and parameters: {'learning_rate': 0.3617542865454882, 'n_estimators': 10, 'max_depth': 5, 'subsample': 0.6890716622976938}. Best is trial 31 with value: -5.178425482409166e-07.\u001B[0m\n",
      "\u001B[32m[I 2022-11-05 13:56:08,374]\u001B[0m Trial 45 finished with value: -5.151013940724155e-07 and parameters: {'learning_rate': 0.35802415725999737, 'n_estimators': 10, 'max_depth': 5, 'subsample': 0.6911393239756343}. Best is trial 45 with value: -5.151013940724155e-07.\u001B[0m\n",
      "\u001B[32m[I 2022-11-05 13:56:08,420]\u001B[0m Trial 46 finished with value: -6.214768671572443e-06 and parameters: {'learning_rate': 0.16778986758758707, 'n_estimators': 7, 'max_depth': 5, 'subsample': 0.7571701871168002}. Best is trial 45 with value: -5.151013940724155e-07.\u001B[0m\n",
      "\u001B[32m[I 2022-11-05 13:56:08,462]\u001B[0m Trial 47 finished with value: -6.537461051351499e-05 and parameters: {'learning_rate': 0.0032256256447384616, 'n_estimators': 11, 'max_depth': 5, 'subsample': 0.6543133089650209}. Best is trial 45 with value: -5.151013940724155e-07.\u001B[0m\n",
      "\u001B[32m[I 2022-11-05 13:56:08,498]\u001B[0m Trial 48 finished with value: -6.835269527066893e-05 and parameters: {'learning_rate': 0.0012509932372978317, 'n_estimators': 10, 'max_depth': 4, 'subsample': 0.6947873624338697}. Best is trial 45 with value: -5.151013940724155e-07.\u001B[0m\n",
      "\u001B[32m[I 2022-11-05 13:56:08,548]\u001B[0m Trial 49 finished with value: -1.4122316162087213e-06 and parameters: {'learning_rate': 0.24724039929868066, 'n_estimators': 8, 'max_depth': 7, 'subsample': 0.60562499586626}. Best is trial 45 with value: -5.151013940724155e-07.\u001B[0m\n",
      "\u001B[32m[I 2022-11-05 13:56:08,557]\u001B[0m A new study created in memory with name: no-name-d6e928b1-7398-49bd-a08e-d02d278ca82e\u001B[0m\n",
      "\u001B[32m[I 2022-11-05 13:56:08,582]\u001B[0m Trial 0 finished with value: -5.356573744150679e-05 and parameters: {'learning_rate': 0.013194742562111991, 'n_estimators': 11, 'max_depth': 5, 'subsample': 0.524891546919672}. Best is trial 0 with value: -5.356573744150679e-05.\u001B[0m\n",
      "\u001B[32m[I 2022-11-05 13:56:08,609]\u001B[0m Trial 1 finished with value: -6.083749134684735e-06 and parameters: {'learning_rate': 0.11306197919841268, 'n_estimators': 11, 'max_depth': 5, 'subsample': 0.7942359240945733}. Best is trial 1 with value: -6.083749134684735e-06.\u001B[0m\n",
      "\u001B[32m[I 2022-11-05 13:56:08,635]\u001B[0m Trial 2 finished with value: -4.2451131304033656e-05 and parameters: {'learning_rate': 0.022742008650853823, 'n_estimators': 12, 'max_depth': 5, 'subsample': 0.2587470510832607}. Best is trial 1 with value: -6.083749134684735e-06.\u001B[0m\n",
      "\u001B[32m[I 2022-11-05 13:56:08,654]\u001B[0m Trial 3 finished with value: -6.249369368041096e-05 and parameters: {'learning_rate': 0.01469329861481825, 'n_estimators': 6, 'max_depth': 2, 'subsample': 0.42903947393262065}. Best is trial 1 with value: -6.083749134684735e-06.\u001B[0m\n",
      "\u001B[32m[I 2022-11-05 13:56:08,685]\u001B[0m Trial 4 finished with value: -1.1873440592343618e-05 and parameters: {'learning_rate': 0.06661617785642121, 'n_estimators': 14, 'max_depth': 4, 'subsample': 0.7620158320234733}. Best is trial 1 with value: -6.083749134684735e-06.\u001B[0m\n",
      "\u001B[32m[I 2022-11-05 13:56:08,706]\u001B[0m Trial 5 finished with value: -4.752450367979406e-05 and parameters: {'learning_rate': 0.0340212520022319, 'n_estimators': 6, 'max_depth': 7, 'subsample': 0.46133166660659336}. Best is trial 1 with value: -6.083749134684735e-06.\u001B[0m\n",
      "\u001B[32m[I 2022-11-05 13:56:08,740]\u001B[0m Trial 6 finished with value: -6.332894869377681e-07 and parameters: {'learning_rate': 0.24974196977246652, 'n_estimators': 14, 'max_depth': 7, 'subsample': 0.3399974614482939}. Best is trial 6 with value: -6.332894869377681e-07.\u001B[0m\n",
      "\u001B[32m[I 2022-11-05 13:56:08,761]\u001B[0m Trial 7 finished with value: -2.7375459022210712e-05 and parameters: {'learning_rate': 0.09846419635986693, 'n_estimators': 7, 'max_depth': 2, 'subsample': 0.353081933494375}. Best is trial 6 with value: -6.332894869377681e-07.\u001B[0m\n",
      "\u001B[32m[I 2022-11-05 13:56:08,792]\u001B[0m Trial 8 finished with value: -1.2512024368929554e-05 and parameters: {'learning_rate': 0.07633521355977835, 'n_estimators': 12, 'max_depth': 4, 'subsample': 0.3612875620577607}. Best is trial 6 with value: -6.332894869377681e-07.\u001B[0m\n",
      "\u001B[32m[I 2022-11-05 13:56:08,821]\u001B[0m Trial 9 finished with value: -7.053046948578165e-05 and parameters: {'learning_rate': 0.0010702129492337752, 'n_estimators': 4, 'max_depth': 5, 'subsample': 0.4740218149067353}. Best is trial 6 with value: -6.332894869377681e-07.\u001B[0m\n",
      "\u001B[32m[I 2022-11-05 13:56:08,893]\u001B[0m Trial 10 finished with value: -1.6823685355922527e-06 and parameters: {'learning_rate': 0.4770797222540064, 'n_estimators': 20, 'max_depth': 7, 'subsample': 0.6794023277251477}. Best is trial 6 with value: -6.332894869377681e-07.\u001B[0m\n",
      "\u001B[32m[I 2022-11-05 13:56:08,990]\u001B[0m Trial 11 finished with value: -1.3347757550306452e-06 and parameters: {'learning_rate': 0.498642753453216, 'n_estimators': 19, 'max_depth': 7, 'subsample': 0.6559073131441988}. Best is trial 6 with value: -6.332894869377681e-07.\u001B[0m\n",
      "\u001B[32m[I 2022-11-05 13:56:09,056]\u001B[0m Trial 12 finished with value: -4.876046897924769e-07 and parameters: {'learning_rate': 0.30662239489682647, 'n_estimators': 19, 'max_depth': 7, 'subsample': 0.6623254631046097}. Best is trial 12 with value: -4.876046897924769e-07.\u001B[0m\n",
      "\u001B[32m[I 2022-11-05 13:56:09,144]\u001B[0m Trial 13 finished with value: -6.265465457501065e-07 and parameters: {'learning_rate': 0.24621607685881527, 'n_estimators': 17, 'max_depth': 6, 'subsample': 0.8872962612219102}. Best is trial 12 with value: -4.876046897924769e-07.\u001B[0m\n",
      "\u001B[32m[I 2022-11-05 13:56:09,225]\u001B[0m Trial 14 finished with value: -6.144400846956506e-05 and parameters: {'learning_rate': 0.004314849696209845, 'n_estimators': 17, 'max_depth': 6, 'subsample': 0.8936541098031753}. Best is trial 12 with value: -4.876046897924769e-07.\u001B[0m\n",
      "\u001B[32m[I 2022-11-05 13:56:09,305]\u001B[0m Trial 15 finished with value: -4.944541772713203e-07 and parameters: {'learning_rate': 0.20218521483367155, 'n_estimators': 17, 'max_depth': 6, 'subsample': 0.6191005496571792}. Best is trial 12 with value: -4.876046897924769e-07.\u001B[0m\n",
      "\u001B[32m[I 2022-11-05 13:56:09,371]\u001B[0m Trial 16 finished with value: -5.146864200018738e-07 and parameters: {'learning_rate': 0.19714868778673528, 'n_estimators': 17, 'max_depth': 6, 'subsample': 0.6107594522994066}. Best is trial 12 with value: -4.876046897924769e-07.\u001B[0m\n",
      "\u001B[32m[I 2022-11-05 13:56:09,474]\u001B[0m Trial 17 finished with value: -2.190275571754785e-05 and parameters: {'learning_rate': 0.03916275469392826, 'n_estimators': 15, 'max_depth': 6, 'subsample': 0.5786647412252203}. Best is trial 12 with value: -4.876046897924769e-07.\u001B[0m\n",
      "\u001B[32m[I 2022-11-05 13:56:09,541]\u001B[0m Trial 18 finished with value: -6.0417640713405794e-05 and parameters: {'learning_rate': 0.004752473832359486, 'n_estimators': 19, 'max_depth': 3, 'subsample': 0.7335240759222477}. Best is trial 12 with value: -4.876046897924769e-07.\u001B[0m\n",
      "\u001B[32m[I 2022-11-05 13:56:09,603]\u001B[0m Trial 19 finished with value: -3.460148205521304e-06 and parameters: {'learning_rate': 0.15860579716880743, 'n_estimators': 9, 'max_depth': 6, 'subsample': 0.5476157715028748}. Best is trial 12 with value: -4.876046897924769e-07.\u001B[0m\n",
      "\u001B[32m[I 2022-11-05 13:56:09,693]\u001B[0m Trial 20 finished with value: -6.575284284047617e-07 and parameters: {'learning_rate': 0.3184302275589905, 'n_estimators': 16, 'max_depth': 7, 'subsample': 0.6739538523064368}. Best is trial 12 with value: -4.876046897924769e-07.\u001B[0m\n",
      "\u001B[32m[I 2022-11-05 13:56:09,764]\u001B[0m Trial 21 finished with value: -5.124946286568105e-07 and parameters: {'learning_rate': 0.1708890298698093, 'n_estimators': 18, 'max_depth': 6, 'subsample': 0.6049172606415804}. Best is trial 12 with value: -4.876046897924769e-07.\u001B[0m\n",
      "\u001B[32m[I 2022-11-05 13:56:09,837]\u001B[0m Trial 22 finished with value: -8.544672878596768e-06 and parameters: {'learning_rate': 0.05321284716711874, 'n_estimators': 20, 'max_depth': 6, 'subsample': 0.6211182433886964}. Best is trial 12 with value: -4.876046897924769e-07.\u001B[0m\n",
      "\u001B[32m[I 2022-11-05 13:56:09,912]\u001B[0m Trial 23 finished with value: -9.504463434975096e-07 and parameters: {'learning_rate': 0.12970493977673378, 'n_estimators': 18, 'max_depth': 7, 'subsample': 0.8155926283403779}. Best is trial 12 with value: -4.876046897924769e-07.\u001B[0m\n",
      "\u001B[32m[I 2022-11-05 13:56:09,976]\u001B[0m Trial 24 finished with value: -5.570635095448814e-07 and parameters: {'learning_rate': 0.31688783987921726, 'n_estimators': 15, 'max_depth': 6, 'subsample': 0.7143585908998726}. Best is trial 12 with value: -4.876046897924769e-07.\u001B[0m\n",
      "\u001B[32m[I 2022-11-05 13:56:10,051]\u001B[0m Trial 25 finished with value: -7.246233547573264e-07 and parameters: {'learning_rate': 0.15919480657171983, 'n_estimators': 18, 'max_depth': 4, 'subsample': 0.5234438561103808}. Best is trial 12 with value: -4.876046897924769e-07.\u001B[0m\n",
      "\u001B[32m[I 2022-11-05 13:56:10,122]\u001B[0m Trial 26 finished with value: -4.601209686528793e-07 and parameters: {'learning_rate': 0.3429281823101918, 'n_estimators': 20, 'max_depth': 5, 'subsample': 0.6162325311878423}. Best is trial 26 with value: -4.601209686528793e-07.\u001B[0m\n",
      "\u001B[32m[I 2022-11-05 13:56:10,204]\u001B[0m Trial 27 finished with value: -6.319725713685098e-07 and parameters: {'learning_rate': 0.45083942784539405, 'n_estimators': 20, 'max_depth': 5, 'subsample': 0.6513061531968702}. Best is trial 26 with value: -4.601209686528793e-07.\u001B[0m\n",
      "\u001B[32m[I 2022-11-05 13:56:10,278]\u001B[0m Trial 28 finished with value: -9.700091523864435e-07 and parameters: {'learning_rate': 0.31160818117487377, 'n_estimators': 19, 'max_depth': 3, 'subsample': 0.7049197911093483}. Best is trial 26 with value: -4.601209686528793e-07.\u001B[0m\n",
      "\u001B[32m[I 2022-11-05 13:56:10,332]\u001B[0m Trial 29 finished with value: -6.0693484192771526e-05 and parameters: {'learning_rate': 0.006406934756884185, 'n_estimators': 13, 'max_depth': 5, 'subsample': 0.5122269823779658}. Best is trial 26 with value: -4.601209686528793e-07.\u001B[0m\n",
      "\u001B[32m[I 2022-11-05 13:56:10,390]\u001B[0m Trial 30 finished with value: -1.178961692488808e-05 and parameters: {'learning_rate': 0.08719454203445931, 'n_estimators': 10, 'max_depth': 5, 'subsample': 0.5735913284231278}. Best is trial 26 with value: -4.601209686528793e-07.\u001B[0m\n",
      "\u001B[32m[I 2022-11-05 13:56:10,465]\u001B[0m Trial 31 finished with value: -4.3143491359859625e-07 and parameters: {'learning_rate': 0.20371535450089875, 'n_estimators': 18, 'max_depth': 6, 'subsample': 0.6076227888950367}. Best is trial 31 with value: -4.3143491359859625e-07.\u001B[0m\n",
      "\u001B[32m[I 2022-11-05 13:56:10,548]\u001B[0m Trial 32 finished with value: -6.10399100066247e-07 and parameters: {'learning_rate': 0.23574236471935323, 'n_estimators': 16, 'max_depth': 7, 'subsample': 0.7685521541722513}. Best is trial 31 with value: -4.3143491359859625e-07.\u001B[0m\n",
      "\u001B[32m[I 2022-11-05 13:56:10,652]\u001B[0m Trial 33 finished with value: -1.1297620335367385e-06 and parameters: {'learning_rate': 0.1105821704616151, 'n_estimators': 20, 'max_depth': 5, 'subsample': 0.6398793360229784}. Best is trial 31 with value: -4.3143491359859625e-07.\u001B[0m\n",
      "\u001B[32m[I 2022-11-05 13:56:10,717]\u001B[0m Trial 34 finished with value: -5.686829645820747e-07 and parameters: {'learning_rate': 0.37000616313145734, 'n_estimators': 18, 'max_depth': 6, 'subsample': 0.5800455912374085}. Best is trial 31 with value: -4.3143491359859625e-07.\u001B[0m\n",
      "\u001B[32m[I 2022-11-05 13:56:10,783]\u001B[0m Trial 35 finished with value: -1.5514576463610714e-05 and parameters: {'learning_rate': 0.047763803205881895, 'n_estimators': 16, 'max_depth': 5, 'subsample': 0.8223362341739862}. Best is trial 31 with value: -4.3143491359859625e-07.\u001B[0m\n",
      "\u001B[32m[I 2022-11-05 13:56:10,845]\u001B[0m Trial 36 finished with value: -3.436433895149565e-05 and parameters: {'learning_rate': 0.02261457932989797, 'n_estimators': 17, 'max_depth': 4, 'subsample': 0.5096003803625805}. Best is trial 31 with value: -4.3143491359859625e-07.\u001B[0m\n",
      "\u001B[32m[I 2022-11-05 13:56:10,915]\u001B[0m Trial 37 finished with value: -4.860334957029087e-05 and parameters: {'learning_rate': 0.010013120060632466, 'n_estimators': 19, 'max_depth': 7, 'subsample': 0.7438914545150691}. Best is trial 31 with value: -4.3143491359859625e-07.\u001B[0m\n",
      "\u001B[32m[I 2022-11-05 13:56:10,993]\u001B[0m Trial 38 finished with value: -1.9856078664521704e-06 and parameters: {'learning_rate': 0.13372315950040328, 'n_estimators': 15, 'max_depth': 6, 'subsample': 0.2424306472319649}. Best is trial 31 with value: -4.3143491359859625e-07.\u001B[0m\n",
      "\u001B[32m[I 2022-11-05 13:56:11,056]\u001B[0m Trial 39 finished with value: -8.245314568069984e-07 and parameters: {'learning_rate': 0.23009173828640425, 'n_estimators': 13, 'max_depth': 5, 'subsample': 0.4152651031126178}. Best is trial 31 with value: -4.3143491359859625e-07.\u001B[0m\n",
      "\u001B[32m[I 2022-11-05 13:56:11,129]\u001B[0m Trial 40 finished with value: -2.104578807441109e-05 and parameters: {'learning_rate': 0.032136048431674606, 'n_estimators': 19, 'max_depth': 7, 'subsample': 0.4802630137810825}. Best is trial 31 with value: -4.3143491359859625e-07.\u001B[0m\n",
      "\u001B[32m[I 2022-11-05 13:56:11,215]\u001B[0m Trial 41 finished with value: -3.178341792435856e-07 and parameters: {'learning_rate': 0.1738763938680426, 'n_estimators': 18, 'max_depth': 6, 'subsample': 0.6022340355664689}. Best is trial 41 with value: -3.178341792435856e-07.\u001B[0m\n",
      "\u001B[32m[I 2022-11-05 13:56:11,288]\u001B[0m Trial 42 finished with value: -5.894544745844961e-06 and parameters: {'learning_rate': 0.06845561984042223, 'n_estimators': 18, 'max_depth': 6, 'subsample': 0.5493233051152603}. Best is trial 41 with value: -3.178341792435856e-07.\u001B[0m\n",
      "\u001B[32m[I 2022-11-05 13:56:11,350]\u001B[0m Trial 43 finished with value: -7.481440171137339e-07 and parameters: {'learning_rate': 0.3752782713664043, 'n_estimators': 20, 'max_depth': 7, 'subsample': 0.6909224734176713}. Best is trial 41 with value: -3.178341792435856e-07.\u001B[0m\n",
      "\u001B[32m[I 2022-11-05 13:56:11,420]\u001B[0m Trial 44 finished with value: -5.869214747045569e-07 and parameters: {'learning_rate': 0.20552067931123388, 'n_estimators': 16, 'max_depth': 6, 'subsample': 0.6206599196846639}. Best is trial 41 with value: -3.178341792435856e-07.\u001B[0m\n",
      "\u001B[32m[I 2022-11-05 13:56:11,478]\u001B[0m Trial 45 finished with value: -6.721730885291199e-05 and parameters: {'learning_rate': 0.0017134398434174728, 'n_estimators': 17, 'max_depth': 4, 'subsample': 0.5840466285114287}. Best is trial 41 with value: -3.178341792435856e-07.\u001B[0m\n",
      "\u001B[32m[I 2022-11-05 13:56:11,569]\u001B[0m Trial 46 finished with value: -1.682236936325527e-06 and parameters: {'learning_rate': 0.10333118647568862, 'n_estimators': 19, 'max_depth': 5, 'subsample': 0.6546701133511549}. Best is trial 41 with value: -3.178341792435856e-07.\u001B[0m\n",
      "\u001B[32m[I 2022-11-05 13:56:11,641]\u001B[0m Trial 47 finished with value: -5.650621504311645e-06 and parameters: {'learning_rate': 0.2899740157112126, 'n_estimators': 4, 'max_depth': 7, 'subsample': 0.5490642674027042}. Best is trial 41 with value: -3.178341792435856e-07.\u001B[0m\n",
      "\u001B[32m[I 2022-11-05 13:56:11,704]\u001B[0m Trial 48 finished with value: -8.150665217558445e-06 and parameters: {'learning_rate': 0.17556276540224366, 'n_estimators': 8, 'max_depth': 6, 'subsample': 0.2046183258580736}. Best is trial 41 with value: -3.178341792435856e-07.\u001B[0m\n",
      "\u001B[32m[I 2022-11-05 13:56:11,756]\u001B[0m Trial 49 finished with value: -4.058913982381492e-06 and parameters: {'learning_rate': 0.39987146003594454, 'n_estimators': 3, 'max_depth': 6, 'subsample': 0.4386576759599669}. Best is trial 41 with value: -3.178341792435856e-07.\u001B[0m\n",
      "\u001B[32m[I 2022-11-05 13:56:11,773]\u001B[0m A new study created in memory with name: no-name-34c025ab-41ba-428b-a5fb-24fd08bae093\u001B[0m\n",
      "\u001B[32m[I 2022-11-05 13:56:11,811]\u001B[0m Trial 0 finished with value: -6.471624124881401e-05 and parameters: {'learning_rate': 0.006992861830014814, 'n_estimators': 11, 'max_depth': 4, 'subsample': 0.36248887222343273}. Best is trial 0 with value: -6.471624124881401e-05.\u001B[0m\n",
      "\u001B[32m[I 2022-11-05 13:56:11,863]\u001B[0m Trial 1 finished with value: -4.37224405493074e-05 and parameters: {'learning_rate': 0.0184984361974605, 'n_estimators': 16, 'max_depth': 3, 'subsample': 0.8550010066211036}. Best is trial 1 with value: -4.37224405493074e-05.\u001B[0m\n",
      "\u001B[32m[I 2022-11-05 13:56:11,905]\u001B[0m Trial 2 finished with value: -4.63008710669986e-05 and parameters: {'learning_rate': 0.020505911848495366, 'n_estimators': 13, 'max_depth': 3, 'subsample': 0.7276277885407167}. Best is trial 1 with value: -4.37224405493074e-05.\u001B[0m\n",
      "\u001B[32m[I 2022-11-05 13:56:11,937]\u001B[0m Trial 3 finished with value: -6.476966975625136e-05 and parameters: {'learning_rate': 0.0090996690766083, 'n_estimators': 8, 'max_depth': 6, 'subsample': 0.5191981133063643}. Best is trial 1 with value: -4.37224405493074e-05.\u001B[0m\n",
      "\u001B[32m[I 2022-11-05 13:56:11,969]\u001B[0m Trial 4 finished with value: -3.404471327292607e-05 and parameters: {'learning_rate': 0.0670928976629022, 'n_estimators': 6, 'max_depth': 5, 'subsample': 0.4054826058808221}. Best is trial 4 with value: -3.404471327292607e-05.\u001B[0m\n",
      "\u001B[32m[I 2022-11-05 13:56:12,016]\u001B[0m Trial 5 finished with value: -2.9565047495771055e-05 and parameters: {'learning_rate': 0.023998923076408496, 'n_estimators': 20, 'max_depth': 6, 'subsample': 0.3980171632631655}. Best is trial 5 with value: -2.9565047495771055e-05.\u001B[0m\n",
      "\u001B[32m[I 2022-11-05 13:56:12,059]\u001B[0m Trial 6 finished with value: -6.48588662885698e-05 and parameters: {'learning_rate': 0.008734197958450964, 'n_estimators': 9, 'max_depth': 3, 'subsample': 0.5945596245841591}. Best is trial 5 with value: -2.9565047495771055e-05.\u001B[0m\n",
      "\u001B[32m[I 2022-11-05 13:56:12,103]\u001B[0m Trial 7 finished with value: -6.447347379231181e-05 and parameters: {'learning_rate': 0.004117908085886066, 'n_estimators': 19, 'max_depth': 5, 'subsample': 0.3392117736992604}. Best is trial 5 with value: -2.9565047495771055e-05.\u001B[0m\n",
      "\u001B[32m[I 2022-11-05 13:56:12,144]\u001B[0m Trial 8 finished with value: -1.6580867845480253e-05 and parameters: {'learning_rate': 0.0530656103490529, 'n_estimators': 14, 'max_depth': 7, 'subsample': 0.7436207809686617}. Best is trial 8 with value: -1.6580867845480253e-05.\u001B[0m\n",
      "\u001B[32m[I 2022-11-05 13:56:12,192]\u001B[0m Trial 9 finished with value: -5.920585065510354e-05 and parameters: {'learning_rate': 0.0059074320714438905, 'n_estimators': 20, 'max_depth': 6, 'subsample': 0.6463106444624623}. Best is trial 8 with value: -1.6580867845480253e-05.\u001B[0m\n",
      "\u001B[32m[I 2022-11-05 13:56:12,275]\u001B[0m Trial 10 finished with value: -3.8860270567679595e-06 and parameters: {'learning_rate': 0.41055870190694926, 'n_estimators': 3, 'max_depth': 7, 'subsample': 0.8668800768582615}. Best is trial 10 with value: -3.8860270567679595e-06.\u001B[0m\n",
      "\u001B[32m[I 2022-11-05 13:56:12,334]\u001B[0m Trial 11 finished with value: -8.062963423056647e-07 and parameters: {'learning_rate': 0.47911279938626694, 'n_estimators': 4, 'max_depth': 7, 'subsample': 0.8962212339302453}. Best is trial 11 with value: -8.062963423056647e-07.\u001B[0m\n",
      "\u001B[32m[I 2022-11-05 13:56:12,395]\u001B[0m Trial 12 finished with value: -2.9275590535168046e-06 and parameters: {'learning_rate': 0.4443507755395303, 'n_estimators': 3, 'max_depth': 7, 'subsample': 0.873276141090223}. Best is trial 11 with value: -8.062963423056647e-07.\u001B[0m\n",
      "\u001B[32m[I 2022-11-05 13:56:12,463]\u001B[0m Trial 13 finished with value: -1.304637687334028e-06 and parameters: {'learning_rate': 0.48787802662229907, 'n_estimators': 4, 'max_depth': 7, 'subsample': 0.7870253131557202}. Best is trial 11 with value: -8.062963423056647e-07.\u001B[0m\n",
      "\u001B[32m[I 2022-11-05 13:56:12,532]\u001B[0m Trial 14 finished with value: -1.7145835381775998e-05 and parameters: {'learning_rate': 0.1678295278189697, 'n_estimators': 6, 'max_depth': 2, 'subsample': 0.7484383565008732}. Best is trial 11 with value: -8.062963423056647e-07.\u001B[0m\n",
      "\u001B[32m[I 2022-11-05 13:56:12,610]\u001B[0m Trial 15 finished with value: -7.383324015409366e-05 and parameters: {'learning_rate': 0.001568519281277246, 'n_estimators': 5, 'max_depth': 7, 'subsample': 0.20679437336956358}. Best is trial 11 with value: -8.062963423056647e-07.\u001B[0m\n",
      "\u001B[32m[I 2022-11-05 13:56:12,673]\u001B[0m Trial 16 finished with value: -2.642650218339089e-06 and parameters: {'learning_rate': 0.17468117190716673, 'n_estimators': 9, 'max_depth': 6, 'subsample': 0.7819699121457837}. Best is trial 11 with value: -8.062963423056647e-07.\u001B[0m\n",
      "\u001B[32m[I 2022-11-05 13:56:12,725]\u001B[0m Trial 17 finished with value: -1.2435569845270772e-05 and parameters: {'learning_rate': 0.21838543858142728, 'n_estimators': 4, 'max_depth': 5, 'subsample': 0.6491447781839956}. Best is trial 11 with value: -8.062963423056647e-07.\u001B[0m\n",
      "\u001B[32m[I 2022-11-05 13:56:12,798]\u001B[0m Trial 18 finished with value: -2.3637327643593765e-05 and parameters: {'learning_rate': 0.07968998022162778, 'n_estimators': 7, 'max_depth': 7, 'subsample': 0.8141312950611652}. Best is trial 11 with value: -8.062963423056647e-07.\u001B[0m\n",
      "\u001B[32m[I 2022-11-05 13:56:12,969]\u001B[0m Trial 19 finished with value: -7.145498342999414e-07 and parameters: {'learning_rate': 0.30168447193518083, 'n_estimators': 11, 'max_depth': 4, 'subsample': 0.8980947473584975}. Best is trial 19 with value: -7.145498342999414e-07.\u001B[0m\n",
      "\u001B[32m[I 2022-11-05 13:56:13,027]\u001B[0m Trial 20 finished with value: -6.584644151207357e-06 and parameters: {'learning_rate': 0.11301684614830836, 'n_estimators': 11, 'max_depth': 4, 'subsample': 0.5137087790532284}. Best is trial 19 with value: -7.145498342999414e-07.\u001B[0m\n",
      "\u001B[32m[I 2022-11-05 13:56:13,116]\u001B[0m Trial 21 finished with value: -8.03543625291432e-07 and parameters: {'learning_rate': 0.4826534846123625, 'n_estimators': 17, 'max_depth': 4, 'subsample': 0.8172686953881254}. Best is trial 19 with value: -7.145498342999414e-07.\u001B[0m\n",
      "\u001B[32m[I 2022-11-05 13:56:13,216]\u001B[0m Trial 22 finished with value: -4.88490190453548e-07 and parameters: {'learning_rate': 0.2665325899176093, 'n_estimators': 17, 'max_depth': 4, 'subsample': 0.899324681473363}. Best is trial 22 with value: -4.88490190453548e-07.\u001B[0m\n",
      "\u001B[32m[I 2022-11-05 13:56:13,305]\u001B[0m Trial 23 finished with value: -6.753013950418172e-07 and parameters: {'learning_rate': 0.25232482876753554, 'n_estimators': 17, 'max_depth': 4, 'subsample': 0.6915330395109973}. Best is trial 22 with value: -4.88490190453548e-07.\u001B[0m\n",
      "\u001B[32m[I 2022-11-05 13:56:13,381]\u001B[0m Trial 24 finished with value: -7.455877675089149e-07 and parameters: {'learning_rate': 0.24098407466570995, 'n_estimators': 16, 'max_depth': 4, 'subsample': 0.6913839043129948}. Best is trial 22 with value: -4.88490190453548e-07.\u001B[0m\n",
      "\u001B[32m[I 2022-11-05 13:56:13,454]\u001B[0m Trial 25 finished with value: -3.737430038984434e-05 and parameters: {'learning_rate': 0.035269612277699744, 'n_estimators': 14, 'max_depth': 2, 'subsample': 0.5827928416042334}. Best is trial 22 with value: -4.88490190453548e-07.\u001B[0m\n",
      "\u001B[32m[I 2022-11-05 13:56:13,558]\u001B[0m Trial 26 finished with value: -2.167850050133955e-06 and parameters: {'learning_rate': 0.12169119983415772, 'n_estimators': 18, 'max_depth': 3, 'subsample': 0.6800652112937786}. Best is trial 22 with value: -4.88490190453548e-07.\u001B[0m\n",
      "\u001B[32m[I 2022-11-05 13:56:13,639]\u001B[0m Trial 27 finished with value: -7.966446329779506e-07 and parameters: {'learning_rate': 0.2544593811038187, 'n_estimators': 13, 'max_depth': 4, 'subsample': 0.8989615448922192}. Best is trial 22 with value: -4.88490190453548e-07.\u001B[0m\n",
      "\u001B[32m[I 2022-11-05 13:56:13,719]\u001B[0m Trial 28 finished with value: -2.8632681383461722e-06 and parameters: {'learning_rate': 0.11111785586739704, 'n_estimators': 15, 'max_depth': 5, 'subsample': 0.8229180574463012}. Best is trial 22 with value: -4.88490190453548e-07.\u001B[0m\n",
      "\u001B[32m[I 2022-11-05 13:56:13,770]\u001B[0m Trial 29 finished with value: -1.2561358513593807e-06 and parameters: {'learning_rate': 0.30553378373233786, 'n_estimators': 11, 'max_depth': 3, 'subsample': 0.45364521518236905}. Best is trial 22 with value: -4.88490190453548e-07.\u001B[0m\n",
      "\u001B[32m[I 2022-11-05 13:56:13,831]\u001B[0m Trial 30 finished with value: -2.8617633454779774e-05 and parameters: {'learning_rate': 0.04332893792410183, 'n_estimators': 12, 'max_depth': 4, 'subsample': 0.2892831925067434}. Best is trial 22 with value: -4.88490190453548e-07.\u001B[0m\n",
      "\u001B[32m[I 2022-11-05 13:56:13,923]\u001B[0m Trial 31 finished with value: -6.920597486300748e-07 and parameters: {'learning_rate': 0.2778949499802691, 'n_estimators': 17, 'max_depth': 4, 'subsample': 0.712081455767265}. Best is trial 22 with value: -4.88490190453548e-07.\u001B[0m\n",
      "\u001B[32m[I 2022-11-05 13:56:13,993]\u001B[0m Trial 32 finished with value: -7.440071342631219e-07 and parameters: {'learning_rate': 0.16712796423760068, 'n_estimators': 18, 'max_depth': 4, 'subsample': 0.8376541756254376}. Best is trial 22 with value: -4.88490190453548e-07.\u001B[0m\n",
      "\u001B[32m[I 2022-11-05 13:56:14,070]\u001B[0m Trial 33 finished with value: -7.632032580824046e-07 and parameters: {'learning_rate': 0.2908991149573455, 'n_estimators': 16, 'max_depth': 3, 'subsample': 0.7221787912044535}. Best is trial 22 with value: -4.88490190453548e-07.\u001B[0m\n",
      "\u001B[32m[I 2022-11-05 13:56:14,171]\u001B[0m Trial 34 finished with value: -4.17621189474014e-06 and parameters: {'learning_rate': 0.08497891332051646, 'n_estimators': 17, 'max_depth': 5, 'subsample': 0.6224758141974818}. Best is trial 22 with value: -4.88490190453548e-07.\u001B[0m\n",
      "\u001B[32m[I 2022-11-05 13:56:14,250]\u001B[0m Trial 35 finished with value: -1.134824231809101e-06 and parameters: {'learning_rate': 0.3084479046464958, 'n_estimators': 10, 'max_depth': 4, 'subsample': 0.7777638771336995}. Best is trial 22 with value: -4.88490190453548e-07.\u001B[0m\n",
      "\u001B[32m[I 2022-11-05 13:56:14,325]\u001B[0m Trial 36 finished with value: -2.140822713346836e-06 and parameters: {'learning_rate': 0.14579658250744396, 'n_estimators': 15, 'max_depth': 3, 'subsample': 0.527369969413193}. Best is trial 22 with value: -4.88490190453548e-07.\u001B[0m\n",
      "\u001B[32m[I 2022-11-05 13:56:14,409]\u001B[0m Trial 37 finished with value: -2.6824665591333716e-05 and parameters: {'learning_rate': 0.028740315330034096, 'n_estimators': 18, 'max_depth': 5, 'subsample': 0.6883018543224275}. Best is trial 22 with value: -4.88490190453548e-07.\u001B[0m\n",
      "\u001B[32m[I 2022-11-05 13:56:14,490]\u001B[0m Trial 38 finished with value: -1.4650772032505613e-05 and parameters: {'learning_rate': 0.06431583554869158, 'n_estimators': 13, 'max_depth': 4, 'subsample': 0.853294966720469}. Best is trial 22 with value: -4.88490190453548e-07.\u001B[0m\n",
      "\u001B[32m[I 2022-11-05 13:56:14,562]\u001B[0m Trial 39 finished with value: -7.990033191450392e-07 and parameters: {'learning_rate': 0.20443990612910565, 'n_estimators': 19, 'max_depth': 3, 'subsample': 0.46531590561404484}. Best is trial 22 with value: -4.88490190453548e-07.\u001B[0m\n",
      "\u001B[32m[I 2022-11-05 13:56:14,641]\u001B[0m Trial 40 finished with value: -4.3414349976696266e-05 and parameters: {'learning_rate': 0.01892086618754847, 'n_estimators': 15, 'max_depth': 4, 'subsample': 0.5788239855367874}. Best is trial 22 with value: -4.88490190453548e-07.\u001B[0m\n",
      "\u001B[32m[I 2022-11-05 13:56:14,706]\u001B[0m Trial 41 finished with value: -7.630821947172721e-07 and parameters: {'learning_rate': 0.32340462286336813, 'n_estimators': 18, 'max_depth': 4, 'subsample': 0.8457378113978132}. Best is trial 22 with value: -4.88490190453548e-07.\u001B[0m\n",
      "\u001B[32m[I 2022-11-05 13:56:14,783]\u001B[0m Trial 42 finished with value: -9.322028983878024e-07 and parameters: {'learning_rate': 0.14749325441352934, 'n_estimators': 17, 'max_depth': 5, 'subsample': 0.836514531391656}. Best is trial 22 with value: -4.88490190453548e-07.\u001B[0m\n",
      "\u001B[32m[I 2022-11-05 13:56:14,848]\u001B[0m Trial 43 finished with value: -6.644019709425771e-07 and parameters: {'learning_rate': 0.3530237586950547, 'n_estimators': 20, 'max_depth': 4, 'subsample': 0.7544730613348251}. Best is trial 22 with value: -4.88490190453548e-07.\u001B[0m\n",
      "\u001B[32m[I 2022-11-05 13:56:14,911]\u001B[0m Trial 44 finished with value: -4.8145180196958775e-05 and parameters: {'learning_rate': 0.012197689566801603, 'n_estimators': 20, 'max_depth': 3, 'subsample': 0.7282880809123328}. Best is trial 22 with value: -4.88490190453548e-07.\u001B[0m\n",
      "\u001B[32m[I 2022-11-05 13:56:14,970]\u001B[0m Trial 45 finished with value: -6.292770011469713e-07 and parameters: {'learning_rate': 0.35645407084598835, 'n_estimators': 19, 'max_depth': 5, 'subsample': 0.7649620102047654}. Best is trial 22 with value: -4.88490190453548e-07.\u001B[0m\n",
      "\u001B[32m[I 2022-11-05 13:56:15,046]\u001B[0m Trial 46 finished with value: -4.6148100104157476e-07 and parameters: {'learning_rate': 0.21089959023167298, 'n_estimators': 19, 'max_depth': 5, 'subsample': 0.7630158284029356}. Best is trial 46 with value: -4.6148100104157476e-07.\u001B[0m\n",
      "\u001B[32m[I 2022-11-05 13:56:15,117]\u001B[0m Trial 47 finished with value: -6.873090062456098e-07 and parameters: {'learning_rate': 0.36201390345949414, 'n_estimators': 19, 'max_depth': 5, 'subsample': 0.7620813478187448}. Best is trial 46 with value: -4.6148100104157476e-07.\u001B[0m\n",
      "\u001B[32m[I 2022-11-05 13:56:15,175]\u001B[0m Trial 48 finished with value: -7.17363400207347e-05 and parameters: {'learning_rate': 0.0010370217720404487, 'n_estimators': 20, 'max_depth': 6, 'subsample': 0.8008632838932329}. Best is trial 46 with value: -4.6148100104157476e-07.\u001B[0m\n",
      "\u001B[32m[I 2022-11-05 13:56:15,247]\u001B[0m Trial 49 finished with value: -6.602478534803827e-05 and parameters: {'learning_rate': 0.0033229391820608738, 'n_estimators': 19, 'max_depth': 5, 'subsample': 0.6362280448677167}. Best is trial 46 with value: -4.6148100104157476e-07.\u001B[0m\n"
     ]
    }
   ],
   "source": [
    "models = [model_build(X,Y).build_model() for X,Y in zip([X_train1,X_train2,X_train3,X_train4],[y_train1,y_train2,y_train3,y_train4])]"
   ],
   "metadata": {
    "collapsed": false,
    "pycharm": {
     "name": "#%%\n"
    }
   }
  },
  {
   "cell_type": "markdown",
   "source": [
    "3. Check models fit\n",
    "\n"
   ],
   "metadata": {
    "collapsed": false,
    "pycharm": {
     "name": "#%% md\n"
    }
   }
  },
  {
   "cell_type": "code",
   "execution_count": 10,
   "outputs": [],
   "source": [
    "y_tests = [y_test1,y_test2,y_test3,y_test4]\n",
    "x_tests = [X_test1,X_test2,X_test3,X_test4]\n",
    "\n",
    "r2_scores = [r2_score(y_tests[i],models[i].predict(x_tests[i])) for i in range(4)]\n",
    "mean_percentage_error =  [mean_absolute_percentage_error(y_tests[i],models[i].predict(x_tests[i])) for i in range(4)]"
   ],
   "metadata": {
    "collapsed": false,
    "pycharm": {
     "name": "#%%\n"
    }
   }
  },
  {
   "cell_type": "code",
   "execution_count": 11,
   "outputs": [
    {
     "data": {
      "text/plain": "[0.9939431193312135,\n 0.9980173348690267,\n 0.9977595220854805,\n 0.9955568232040307]"
     },
     "execution_count": 11,
     "metadata": {},
     "output_type": "execute_result"
    }
   ],
   "source": [
    "r2_scores ### r2 test score"
   ],
   "metadata": {
    "collapsed": false,
    "pycharm": {
     "name": "#%%\n"
    }
   }
  },
  {
   "cell_type": "code",
   "execution_count": 12,
   "outputs": [
    {
     "data": {
      "text/plain": "[0.05238816401591361,\n 0.05069035901497627,\n 0.07929761958941446,\n 0.06102486834345675]"
     },
     "execution_count": 12,
     "metadata": {},
     "output_type": "execute_result"
    }
   ],
   "source": [
    "mean_percentage_error ### MAPE test score"
   ],
   "metadata": {
    "collapsed": false,
    "pycharm": {
     "name": "#%%\n"
    }
   }
  },
  {
   "cell_type": "code",
   "execution_count": 13,
   "outputs": [],
   "source": [
    "def predict_E(X):\n",
    "    '''Function predicts E values by averaging four built models predictions\n",
    "    x- np.array wavelength, returns E values'''\n",
    "    return np.mean(np.vstack([m.predict(X) for m in models]),axis=0)"
   ],
   "metadata": {
    "collapsed": false,
    "pycharm": {
     "name": "#%%\n"
    }
   }
  },
  {
   "cell_type": "code",
   "execution_count": 14,
   "outputs": [],
   "source": [
    "E_vals = predict_E(np.expand_dims(sensetive_waves,axis=1))"
   ],
   "metadata": {
    "collapsed": false,
    "pycharm": {
     "name": "#%%\n"
    }
   }
  },
  {
   "cell_type": "markdown",
   "source": [
    "4. Check if we can reversly find concentartions by knowing E_vals on train set\n",
    "   c = A/E*L  ideal result all c values must be the same"
   ],
   "metadata": {
    "collapsed": false,
    "pycharm": {
     "name": "#%% md\n"
    }
   }
  },
  {
   "cell_type": "code",
   "execution_count": 15,
   "outputs": [
    {
     "data": {
      "text/plain": "<Figure size 640x480 with 1 Axes>",
      "image/png": "[encoded data removed]"
     },
     "metadata": {},
     "output_type": "display_data"
    }
   ],
   "source": [
    "### Dilute 1\n",
    "\n",
    "plt.hist(df_pigment_train.values[0,:]/E_vals)\n",
    "plt.xlabel('c values in mg/L')\n",
    "plt.show()"
   ],
   "metadata": {
    "collapsed": false,
    "pycharm": {
     "name": "#%%\n"
    }
   }
  },
  {
   "cell_type": "code",
   "execution_count": 16,
   "outputs": [
    {
     "data": {
      "text/plain": "51.36563219401605"
     },
     "execution_count": 16,
     "metadata": {},
     "output_type": "execute_result"
    }
   ],
   "source": [
    "(df_pigment_train.values[0,:]/E_vals).mean()"
   ],
   "metadata": {
    "collapsed": false,
    "pycharm": {
     "name": "#%%\n"
    }
   }
  },
  {
   "cell_type": "code",
   "execution_count": 17,
   "outputs": [
    {
     "data": {
      "text/plain": "<Figure size 640x480 with 1 Axes>",
      "image/png": "[encoded data removed]"
     },
     "metadata": {},
     "output_type": "display_data"
    }
   ],
   "source": [
    "### Dilute 2\n",
    "\n",
    "plt.hist(df_pigment_train.values[1,:]/E_vals)\n",
    "plt.xlabel('c values in mg/L')\n",
    "plt.show()"
   ],
   "metadata": {
    "collapsed": false,
    "pycharm": {
     "name": "#%%\n"
    }
   }
  },
  {
   "cell_type": "code",
   "execution_count": 18,
   "outputs": [
    {
     "data": {
      "text/plain": "24.6872932752032"
     },
     "execution_count": 18,
     "metadata": {},
     "output_type": "execute_result"
    }
   ],
   "source": [
    "np.mean(df_pigment_train.values[1,:]/E_vals)"
   ],
   "metadata": {
    "collapsed": false,
    "pycharm": {
     "name": "#%%\n"
    }
   }
  },
  {
   "cell_type": "code",
   "execution_count": 19,
   "outputs": [
    {
     "data": {
      "text/plain": "<Figure size 640x480 with 1 Axes>",
      "image/png": "[encoded data removed]"
     },
     "metadata": {},
     "output_type": "display_data"
    }
   ],
   "source": [
    "# dilute 4\n",
    "\n",
    "plt.hist(df_pigment_train.values[2,:]/E_vals)\n",
    "plt.show()"
   ],
   "metadata": {
    "collapsed": false,
    "pycharm": {
     "name": "#%%\n"
    }
   }
  },
  {
   "cell_type": "code",
   "execution_count": 20,
   "outputs": [
    {
     "data": {
      "text/plain": "11.920359255531583"
     },
     "execution_count": 20,
     "metadata": {},
     "output_type": "execute_result"
    }
   ],
   "source": [
    "np.mean(df_pigment_train.values[2,:]/E_vals)"
   ],
   "metadata": {
    "collapsed": false,
    "pycharm": {
     "name": "#%%\n"
    }
   }
  },
  {
   "cell_type": "code",
   "execution_count": 21,
   "outputs": [
    {
     "data": {
      "text/plain": "<Figure size 640x480 with 1 Axes>",
      "image/png": "[encoded data removed]"
     },
     "metadata": {},
     "output_type": "display_data"
    }
   ],
   "source": [
    "# dilute 8\n",
    "\n",
    "plt.hist(df_pigment_train.values[3,:]/E_vals)\n",
    "plt.show()"
   ],
   "metadata": {
    "collapsed": false,
    "pycharm": {
     "name": "#%%\n"
    }
   }
  },
  {
   "cell_type": "code",
   "execution_count": 22,
   "outputs": [
    {
     "data": {
      "text/plain": "5.719592514873219"
     },
     "execution_count": 22,
     "metadata": {},
     "output_type": "execute_result"
    }
   ],
   "source": [
    "np.mean(df_pigment_train.values[3,:]/E_vals)"
   ],
   "metadata": {
    "collapsed": false,
    "pycharm": {
     "name": "#%%\n"
    }
   }
  },
  {
   "cell_type": "markdown",
   "source": [
    "Conclusion\n",
    "\n",
    "Looks the mean in c values corresponds to dilute values, however somehow there is large deviation in the results, c should be constant\n",
    "\n",
    "Therefore on test set mean of c values for different waves will be taken"
   ],
   "metadata": {
    "collapsed": false,
    "pycharm": {
     "name": "#%% md\n"
    }
   }
  },
  {
   "cell_type": "markdown",
   "source": [
    " 4.A"
   ],
   "metadata": {
    "collapsed": false,
    "pycharm": {
     "name": "#%% md\n"
    }
   }
  },
  {
   "cell_type": "code",
   "execution_count": 24,
   "outputs": [],
   "source": [
    "df_test = pd.read_csv(r'C:\\Users\\zcemg08\\DataspellProjects\\KTP_test\\data\\sample.csv')"
   ],
   "metadata": {
    "collapsed": false,
    "pycharm": {
     "name": "#%%\n"
    }
   }
  },
  {
   "cell_type": "code",
   "execution_count": 25,
   "outputs": [],
   "source": [
    "df_test_SOLVENT = df_test[df_test['Sample']=='Blank'].groupby('Dilution').mean(numeric_only=True) ### average experiment readings\n",
    "df_test_mix     = df_test[(df_test['Sample']=='X1')].groupby('Dilution').mean(numeric_only=True)"
   ],
   "metadata": {
    "collapsed": false,
    "pycharm": {
     "name": "#%%\n"
    }
   }
  },
  {
   "cell_type": "code",
   "execution_count": 26,
   "outputs": [],
   "source": [
    "### Select data for sensetive waves only"
   ],
   "metadata": {
    "collapsed": false,
    "pycharm": {
     "name": "#%%\n"
    }
   }
  },
  {
   "cell_type": "code",
   "execution_count": 27,
   "outputs": [],
   "source": [
    "df_test_SOLVENT = df_test_SOLVENT.iloc[:,sensetive_region]\n",
    "df_test_mix     = df_test_mix.iloc[:,sensetive_region]"
   ],
   "metadata": {
    "collapsed": false,
    "pycharm": {
     "name": "#%%\n"
    }
   }
  },
  {
   "cell_type": "code",
   "execution_count": 28,
   "outputs": [],
   "source": [
    "df_pigment_a_test = df_test_mix - df_test_SOLVENT.values  ### A values for pigment in test set"
   ],
   "metadata": {
    "collapsed": false,
    "pycharm": {
     "name": "#%%\n"
    }
   }
  },
  {
   "cell_type": "code",
   "execution_count": 29,
   "outputs": [
    {
     "data": {
      "text/plain": "162.13001130055463"
     },
     "execution_count": 29,
     "metadata": {},
     "output_type": "execute_result"
    }
   ],
   "source": [
    "np.mean(df_pigment_a_test.values/E_vals)"
   ],
   "metadata": {
    "collapsed": false,
    "pycharm": {
     "name": "#%%\n"
    }
   }
  },
  {
   "cell_type": "markdown",
   "source": [
    "Check if the result makes sense\n",
    "\n",
    "(A1/A2 = c1/c2)"
   ],
   "metadata": {
    "collapsed": false,
    "pycharm": {
     "name": "#%% md\n"
    }
   }
  },
  {
   "cell_type": "code",
   "execution_count": 30,
   "outputs": [],
   "source": [
    "x = df_pigment_train.values[0,:] ### A of pigment at 50 mg/L\n",
    "y = df_pigment_a_test.values[0,:] ### A of pigment"
   ],
   "metadata": {
    "collapsed": false,
    "pycharm": {
     "name": "#%%\n"
    }
   }
  },
  {
   "cell_type": "code",
   "execution_count": 31,
   "outputs": [
    {
     "data": {
      "text/plain": "2.9170571167171553"
     },
     "execution_count": 31,
     "metadata": {},
     "output_type": "execute_result"
    }
   ],
   "source": [
    "np.mean(y/x)"
   ],
   "metadata": {
    "collapsed": false,
    "pycharm": {
     "name": "#%%\n"
    }
   }
  },
  {
   "cell_type": "code",
   "execution_count": 33,
   "outputs": [
    {
     "data": {
      "text/plain": "3.24"
     },
     "execution_count": 33,
     "metadata": {},
     "output_type": "execute_result"
    }
   ],
   "source": [
    "162/50"
   ],
   "metadata": {
    "collapsed": false,
    "pycharm": {
     "name": "#%%\n"
    }
   }
  },
  {
   "cell_type": "markdown",
   "source": [
    "Results is not rediculus"
   ],
   "metadata": {
    "collapsed": false,
    "pycharm": {
     "name": "#%% md\n"
    }
   }
  },
  {
   "cell_type": "code",
   "execution_count": null,
   "outputs": [],
   "source": [],
   "metadata": {
    "collapsed": false,
    "pycharm": {
     "name": "#%%\n"
    }
   }
  }
 ],
 "metadata": {
  "kernelspec": {
   "display_name": "Python 3",
   "language": "python",
   "name": "python3"
  },
  "language_info": {
   "codemirror_mode": {
    "name": "ipython",
    "version": 2
   },
   "file_extension": ".py",
   "mimetype": "text/x-python",
   "name": "python",
   "nbconvert_exporter": "python",
   "pygments_lexer": "ipython2",
   "version": "2.7.6"
  }
 },
 "nbformat": 4,
 "nbformat_minor": 0
}